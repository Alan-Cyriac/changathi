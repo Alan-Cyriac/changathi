{
 "cells": [
  {
   "cell_type": "markdown",
   "metadata": {},
   "source": [
    "# ChatBot API"
   ]
  },
  {
   "cell_type": "code",
   "execution_count": 5,
   "metadata": {},
   "outputs": [],
   "source": [
    "import requests\n",
    "import json\n",
    "BASE_URL = 'http://127.0.0.1:8000/'"
   ]
  },
  {
   "cell_type": "markdown",
   "metadata": {},
   "source": [
    "# Add Intent"
   ]
  },
  {
   "cell_type": "code",
   "execution_count": 11,
   "metadata": {},
   "outputs": [],
   "source": [
    "def insert_intent(query, intent):\n",
    "    ENDPOINT = \"insert_intent/\"\n",
    "    \n",
    "    data = {\n",
    "            \"query\": query,\n",
    "            \"intent\": intent\n",
    "            }\n",
    "    \n",
    "    resp = requests.post(BASE_URL+ENDPOINT, data=json.dumps(data))\n",
    "    print(resp.status_code)\n",
    "    print(resp.json())\n",
    "# insert_intent()"
   ]
  },
  {
   "cell_type": "markdown",
   "metadata": {},
   "source": [
    "# Get all Intents"
   ]
  },
  {
   "cell_type": "code",
   "execution_count": 10,
   "metadata": {},
   "outputs": [
    {
     "name": "stdout",
     "output_type": "stream",
     "text": [
      "200\n",
      "{'result': {'intent': []}, 'error': []}\n"
     ]
    }
   ],
   "source": [
    "def all_intent():\n",
    "    ENDPOINT = \"all_intent/\"\n",
    "    resp = requests.post(BASE_URL+ENDPOINT)\n",
    "    print(resp.status_code)\n",
    "    print(resp.json())\n",
    "all_intent()"
   ]
  },
  {
   "cell_type": "markdown",
   "metadata": {},
   "source": [
    "## Get Intent ID"
   ]
  },
  {
   "cell_type": "code",
   "execution_count": 10,
   "metadata": {},
   "outputs": [
    {
     "name": "stdout",
     "output_type": "stream",
     "text": [
      "200\n",
      "{'intent_id': 2, 'error': []}\n"
     ]
    }
   ],
   "source": [
    "def get_intent_id(intent):\n",
    "    ENDPOINT = \"get_intent_id/\"\n",
    "    intent = {\n",
    "        \"intent\": intent\n",
    "    }\n",
    "    resp = requests.post(BASE_URL+ENDPOINT, data = json.dumps(intent))\n",
    "    print(resp.status_code)\n",
    "    print(resp.json())\n",
    "get_intent_id(intent = \"add_student\")"
   ]
  },
  {
   "cell_type": "markdown",
   "metadata": {},
   "source": [
    "# Parse Json"
   ]
  },
  {
   "cell_type": "code",
   "execution_count": 13,
   "metadata": {},
   "outputs": [
    {
     "name": "stdout",
     "output_type": "stream",
     "text": [
      "200\n",
      "{'result': {'is_the_query_new': False, 'is_intent_inserted': False, 'is_trainset_inserted': False}, 'error': [{'query': ['Query db with this Query already exists.']}, {'intent': ['Intent db with this Intent already exists.']}]}\n",
      "200\n",
      "{'result': {'is_the_query_new': False, 'is_intent_inserted': False, 'is_trainset_inserted': False}, 'error': [{'query': ['Query db with this Query already exists.']}, {'intent': ['Intent db with this Intent already exists.']}]}\n",
      "400\n",
      "{'result': {'is_the_query_new': False, 'is_entity_entered': False}, 'error': [{'__all__': ['Entity db with this Query, Start pos and End pos already exists.']}]}\n",
      "400\n",
      "{'result': {'is_the_query_new': False, 'is_entity_entered': False}, 'error': [{'__all__': ['Entity db with this Query, Start pos and End pos already exists.']}]}\n",
      "200\n",
      "{'result': {'is_the_query_new': False, 'is_intent_inserted': False, 'is_trainset_inserted': False}, 'error': [{'query': ['Query db with this Query already exists.']}, {'intent': ['Intent db with this Intent already exists.']}]}\n",
      "200\n",
      "{'result': {'is_the_query_new': False, 'is_intent_inserted': False, 'is_trainset_inserted': False}, 'error': [{'query': ['Query db with this Query already exists.']}, {'intent': ['Intent db with this Intent already exists.']}]}\n",
      "200\n",
      "{'result': {'is_the_query_new': False, 'is_intent_inserted': False, 'is_trainset_inserted': False}, 'error': [{'query': ['Query db with this Query already exists.']}, {'intent': ['Intent db with this Intent already exists.']}]}\n",
      "200\n",
      "{'result': {'is_the_query_new': False, 'is_intent_inserted': False, 'is_trainset_inserted': False}, 'error': [{'query': ['Query db with this Query already exists.']}, {'intent': ['Intent db with this Intent already exists.']}]}\n",
      "200\n",
      "{'result': {'is_the_query_new': False, 'is_intent_inserted': False, 'is_trainset_inserted': False}, 'error': [{'query': ['Query db with this Query already exists.']}, {'intent': ['Intent db with this Intent already exists.']}]}\n",
      "200\n",
      "{'result': {'is_the_query_new': False, 'is_intent_inserted': False, 'is_trainset_inserted': False}, 'error': [{'query': ['Query db with this Query already exists.']}, {'intent': ['Intent db with this Intent already exists.']}]}\n",
      "200\n",
      "{'result': {'is_the_query_new': False, 'is_intent_inserted': False, 'is_trainset_inserted': False}, 'error': [{'query': ['Query db with this Query already exists.']}, {'intent': ['Intent db with this Intent already exists.']}]}\n",
      "200\n",
      "{'result': {'is_the_query_new': False, 'is_intent_inserted': False, 'is_trainset_inserted': False}, 'error': [{'query': ['Query db with this Query already exists.']}, {'intent': ['Intent db with this Intent already exists.']}]}\n",
      "200\n",
      "{'result': {'is_the_query_new': False, 'is_intent_inserted': False, 'is_trainset_inserted': False}, 'error': [{'query': ['Query db with this Query already exists.']}, {'intent': ['Intent db with this Intent already exists.']}]}\n",
      "200\n",
      "{'result': {'is_the_query_new': False, 'is_intent_inserted': False, 'is_trainset_inserted': False}, 'error': [{'query': ['Query db with this Query already exists.']}, {'intent': ['Intent db with this Intent already exists.']}]}\n",
      "200\n",
      "{'result': {'is_the_query_new': False, 'is_intent_inserted': False, 'is_trainset_inserted': False}, 'error': [{'query': ['Query db with this Query already exists.']}, {'intent': ['Intent db with this Intent already exists.']}]}\n",
      "200\n",
      "{'result': {'is_the_query_new': False, 'is_intent_inserted': False, 'is_trainset_inserted': False}, 'error': [{'query': ['Query db with this Query already exists.']}, {'intent': ['Intent db with this Intent already exists.']}]}\n",
      "400\n",
      "{'result': {'is_the_query_new': False, 'is_entity_entered': False}, 'error': [{'__all__': ['Entity db with this Query, Start pos and End pos already exists.']}]}\n",
      "200\n",
      "{'result': {'is_the_query_new': False, 'is_intent_inserted': False, 'is_trainset_inserted': False}, 'error': [{'query': ['Query db with this Query already exists.']}, {'intent': ['Intent db with this Intent already exists.']}]}\n",
      "400\n",
      "{'result': {'is_the_query_new': False, 'is_entity_entered': False}, 'error': [{'__all__': ['Entity db with this Query, Start pos and End pos already exists.']}]}\n",
      "200\n",
      "{'result': {'is_the_query_new': False, 'is_intent_inserted': False, 'is_trainset_inserted': False}, 'error': [{'query': ['Query db with this Query already exists.']}, {'intent': ['Intent db with this Intent already exists.']}]}\n",
      "400\n",
      "{'result': {'is_the_query_new': False, 'is_entity_entered': False}, 'error': [{'__all__': ['Entity db with this Query, Start pos and End pos already exists.']}]}\n",
      "200\n",
      "{'result': {'is_the_query_new': False, 'is_intent_inserted': False, 'is_trainset_inserted': False}, 'error': [{'query': ['Query db with this Query already exists.']}, {'intent': ['Intent db with this Intent already exists.']}]}\n",
      "400\n",
      "{'result': {'is_the_query_new': False, 'is_entity_entered': False}, 'error': [{'__all__': ['Entity db with this Query, Start pos and End pos already exists.']}]}\n",
      "200\n",
      "{'result': {'is_the_query_new': False, 'is_intent_inserted': False, 'is_trainset_inserted': False}, 'error': [{'query': ['Query db with this Query already exists.']}, {'intent': ['Intent db with this Intent already exists.']}]}\n",
      "400\n",
      "{'result': {'is_the_query_new': False, 'is_entity_entered': False}, 'error': [{'__all__': ['Entity db with this Query, Start pos and End pos already exists.']}]}\n",
      "400\n",
      "{'result': {'is_the_query_new': False, 'is_entity_entered': False}, 'error': [{'__all__': ['Entity db with this Query, Start pos and End pos already exists.']}]}\n",
      "200\n",
      "{'result': {'is_the_query_new': False, 'is_intent_inserted': False, 'is_trainset_inserted': False}, 'error': [{'query': ['Query db with this Query already exists.']}, {'intent': ['Intent db with this Intent already exists.']}]}\n",
      "200\n",
      "{'result': {'is_the_query_new': False, 'is_intent_inserted': False, 'is_trainset_inserted': False}, 'error': [{'query': ['Query db with this Query already exists.']}, {'intent': ['Intent db with this Intent already exists.']}]}\n",
      "200\n",
      "{'result': {'is_the_query_new': False, 'is_intent_inserted': False, 'is_trainset_inserted': False}, 'error': [{'query': ['Query db with this Query already exists.']}, {'intent': ['Intent db with this Intent already exists.']}]}\n",
      "200\n",
      "{'result': {'is_the_query_new': False, 'is_intent_inserted': False, 'is_trainset_inserted': False}, 'error': [{'query': ['Query db with this Query already exists.']}, {'intent': ['Intent db with this Intent already exists.']}]}\n",
      "200\n",
      "{'result': {'is_the_query_new': False, 'is_intent_inserted': False, 'is_trainset_inserted': False}, 'error': [{'query': ['Query db with this Query already exists.']}, {'intent': ['Intent db with this Intent already exists.']}]}\n",
      "200\n",
      "{'result': {'is_the_query_new': False, 'is_intent_inserted': False, 'is_trainset_inserted': False}, 'error': [{'query': ['Query db with this Query already exists.']}, {'intent': ['Intent db with this Intent already exists.']}]}\n",
      "200\n",
      "{'result': {'is_the_query_new': False, 'is_intent_inserted': False, 'is_trainset_inserted': False}, 'error': [{'query': ['Query db with this Query already exists.']}, {'intent': ['Intent db with this Intent already exists.']}]}\n",
      "200\n",
      "{'result': {'is_the_query_new': False, 'is_intent_inserted': False, 'is_trainset_inserted': False}, 'error': [{'query': ['Query db with this Query already exists.']}, {'intent': ['Intent db with this Intent already exists.']}]}\n",
      "200\n",
      "{'result': {'is_the_query_new': False, 'is_intent_inserted': False, 'is_trainset_inserted': False}, 'error': [{'query': ['Query db with this Query already exists.']}, {'intent': ['Intent db with this Intent already exists.']}]}\n",
      "200\n",
      "{'result': {'is_the_query_new': False, 'is_intent_inserted': False, 'is_trainset_inserted': False}, 'error': [{'query': ['Query db with this Query already exists.']}, {'intent': ['Intent db with this Intent already exists.']}]}\n",
      "200\n",
      "{'result': {'is_the_query_new': False, 'is_intent_inserted': False, 'is_trainset_inserted': False}, 'error': [{'query': ['Query db with this Query already exists.']}, {'intent': ['Intent db with this Intent already exists.']}]}\n",
      "200\n",
      "{'result': {'is_the_query_new': False, 'is_intent_inserted': False, 'is_trainset_inserted': False}, 'error': [{'query': ['Query db with this Query already exists.']}, {'intent': ['Intent db with this Intent already exists.']}]}\n",
      "200\n",
      "{'result': {'is_the_query_new': False, 'is_intent_inserted': False, 'is_trainset_inserted': False}, 'error': [{'query': ['Query db with this Query already exists.']}, {'intent': ['Intent db with this Intent already exists.']}]}\n",
      "200\n",
      "{'result': {'is_the_query_new': False, 'is_intent_inserted': False, 'is_trainset_inserted': False}, 'error': [{'query': ['Query db with this Query already exists.']}, {'intent': ['Intent db with this Intent already exists.']}]}\n"
     ]
    },
    {
     "name": "stdout",
     "output_type": "stream",
     "text": [
      "200\n",
      "{'result': {'is_the_query_new': False, 'is_intent_inserted': False, 'is_trainset_inserted': False}, 'error': [{'query': ['Query db with this Query already exists.']}, {'intent': ['Intent db with this Intent already exists.']}]}\n",
      "200\n",
      "{'result': {'is_the_query_new': False, 'is_intent_inserted': False, 'is_trainset_inserted': False}, 'error': [{'query': ['Query db with this Query already exists.']}, {'intent': ['Intent db with this Intent already exists.']}]}\n",
      "200\n",
      "{'result': {'is_the_query_new': False, 'is_intent_inserted': False, 'is_trainset_inserted': False}, 'error': [{'query': ['Query db with this Query already exists.']}, {'intent': ['Intent db with this Intent already exists.']}]}\n",
      "200\n",
      "{'result': {'is_the_query_new': False, 'is_intent_inserted': False, 'is_trainset_inserted': False}, 'error': [{'query': ['Query db with this Query already exists.']}, {'intent': ['Intent db with this Intent already exists.']}]}\n",
      "200\n",
      "{'result': {'is_the_query_new': False, 'is_intent_inserted': False, 'is_trainset_inserted': False}, 'error': [{'query': ['Query db with this Query already exists.']}, {'intent': ['Intent db with this Intent already exists.']}]}\n",
      "200\n",
      "{'result': {'is_the_query_new': False, 'is_intent_inserted': False, 'is_trainset_inserted': False}, 'error': [{'query': ['Query db with this Query already exists.']}, {'intent': ['Intent db with this Intent already exists.']}]}\n",
      "200\n",
      "{'result': {'is_the_query_new': False, 'is_intent_inserted': False, 'is_trainset_inserted': False}, 'error': [{'query': ['Query db with this Query already exists.']}, {'intent': ['Intent db with this Intent already exists.']}]}\n",
      "200\n",
      "{'result': {'is_the_query_new': False, 'is_intent_inserted': False, 'is_trainset_inserted': False}, 'error': [{'query': ['Query db with this Query already exists.']}, {'intent': ['Intent db with this Intent already exists.']}]}\n",
      "200\n",
      "{'result': {'is_the_query_new': False, 'is_intent_inserted': False, 'is_trainset_inserted': False}, 'error': [{'query': ['Query db with this Query already exists.']}, {'intent': ['Intent db with this Intent already exists.']}]}\n",
      "200\n",
      "{'result': {'is_the_query_new': False, 'is_intent_inserted': False, 'is_trainset_inserted': False}, 'error': [{'query': ['Query db with this Query already exists.']}, {'intent': ['Intent db with this Intent already exists.']}]}\n",
      "200\n",
      "{'result': {'is_the_query_new': False, 'is_intent_inserted': False, 'is_trainset_inserted': False}, 'error': [{'query': ['Query db with this Query already exists.']}, {'intent': ['Intent db with this Intent already exists.']}]}\n",
      "200\n",
      "{'result': {'is_the_query_new': False, 'is_intent_inserted': False, 'is_trainset_inserted': False}, 'error': [{'query': ['Query db with this Query already exists.']}, {'intent': ['This field is required.']}]}\n",
      "400\n",
      "{'result': {'is_the_query_new': False, 'is_entity_entered': False}, 'error': [{'__all__': ['Entity db with this Query, Start pos and End pos already exists.']}]}\n",
      "200\n",
      "{'result': {'is_the_query_new': False, 'is_intent_inserted': False, 'is_trainset_inserted': False}, 'error': [{'query': ['Query db with this Query already exists.']}, {'intent': ['Intent db with this Intent already exists.']}]}\n",
      "200\n",
      "{'result': {'is_the_query_new': False, 'is_intent_inserted': False, 'is_trainset_inserted': False}, 'error': [{'query': ['Query db with this Query already exists.']}, {'intent': ['Intent db with this Intent already exists.']}]}\n",
      "200\n",
      "{'result': {'is_the_query_new': False, 'is_intent_inserted': False, 'is_trainset_inserted': False}, 'error': [{'query': ['Query db with this Query already exists.']}, {'intent': ['Intent db with this Intent already exists.']}]}\n",
      "200\n",
      "{'result': {'is_the_query_new': False, 'is_intent_inserted': False, 'is_trainset_inserted': False}, 'error': [{'query': ['Query db with this Query already exists.']}, {'intent': ['Intent db with this Intent already exists.']}]}\n",
      "200\n",
      "{'result': {'is_the_query_new': False, 'is_intent_inserted': False, 'is_trainset_inserted': False}, 'error': [{'query': ['Query db with this Query already exists.']}, {'intent': ['This field is required.']}]}\n",
      "400\n",
      "{'result': {'is_the_query_new': False, 'is_entity_entered': False}, 'error': [{'__all__': ['Entity db with this Query, Start pos and End pos already exists.']}]}\n",
      "200\n",
      "{'result': {'is_the_query_new': False, 'is_intent_inserted': False, 'is_trainset_inserted': False}, 'error': [{'query': ['Query db with this Query already exists.']}, {'intent': ['Intent db with this Intent already exists.']}]}\n",
      "200\n",
      "{'result': {'is_the_query_new': False, 'is_intent_inserted': False, 'is_trainset_inserted': False}, 'error': [{'query': ['Query db with this Query already exists.']}, {'intent': ['Intent db with this Intent already exists.']}]}\n",
      "200\n",
      "{'result': {'is_the_query_new': False, 'is_intent_inserted': False, 'is_trainset_inserted': False}, 'error': [{'query': ['Query db with this Query already exists.']}, {'intent': ['Intent db with this Intent already exists.']}]}\n",
      "200\n",
      "{'result': {'is_the_query_new': False, 'is_intent_inserted': False, 'is_trainset_inserted': False}, 'error': [{'query': ['Query db with this Query already exists.']}, {'intent': ['Intent db with this Intent already exists.']}]}\n",
      "200\n",
      "{'result': {'is_the_query_new': False, 'is_intent_inserted': False, 'is_trainset_inserted': False}, 'error': [{'query': ['Query db with this Query already exists.']}, {'intent': ['Intent db with this Intent already exists.']}]}\n",
      "200\n",
      "{'result': {'is_the_query_new': False, 'is_intent_inserted': False, 'is_trainset_inserted': False}, 'error': [{'query': ['Query db with this Query already exists.']}, {'intent': ['Intent db with this Intent already exists.']}]}\n",
      "200\n",
      "{'result': {'is_the_query_new': False, 'is_intent_inserted': False, 'is_trainset_inserted': False}, 'error': [{'query': ['Query db with this Query already exists.']}, {'intent': ['Intent db with this Intent already exists.']}]}\n",
      "400\n",
      "{'result': {'is_the_query_new': False, 'is_entity_entered': False}, 'error': [{'__all__': ['Entity db with this Query, Start pos and End pos already exists.']}]}\n",
      "400\n",
      "{'result': {'is_the_query_new': False, 'is_entity_entered': False}, 'error': [{'__all__': ['Entity db with this Query, Start pos and End pos already exists.']}]}\n",
      "200\n",
      "{'result': {'is_the_query_new': False, 'is_intent_inserted': False, 'is_trainset_inserted': False}, 'error': [{'query': ['Query db with this Query already exists.']}, {'intent': ['Intent db with this Intent already exists.']}]}\n",
      "200\n",
      "{'result': {'is_the_query_new': False, 'is_intent_inserted': False, 'is_trainset_inserted': False}, 'error': [{'query': ['Query db with this Query already exists.']}, {'intent': ['Intent db with this Intent already exists.']}]}\n",
      "400\n",
      "{'result': {'is_the_query_new': False, 'is_entity_entered': False}, 'error': [{'__all__': ['Entity db with this Query, Start pos and End pos already exists.']}]}\n",
      "400\n",
      "{'result': {'is_the_query_new': False, 'is_entity_entered': False}, 'error': [{'__all__': ['Entity db with this Query, Start pos and End pos already exists.']}]}\n",
      "400\n",
      "{'result': {'is_the_query_new': False, 'is_entity_entered': False}, 'error': [{'__all__': ['Entity db with this Query, Start pos and End pos already exists.']}]}\n",
      "200\n",
      "{'result': {'is_the_query_new': False, 'is_intent_inserted': False, 'is_trainset_inserted': False}, 'error': [{'query': ['Query db with this Query already exists.']}, {'intent': ['Intent db with this Intent already exists.']}]}\n",
      "400\n",
      "{'result': {'is_the_query_new': False, 'is_entity_entered': False}, 'error': [{'__all__': ['Entity db with this Query, Start pos and End pos already exists.']}]}\n",
      "400\n",
      "{'result': {'is_the_query_new': False, 'is_entity_entered': False}, 'error': [{'__all__': ['Entity db with this Query, Start pos and End pos already exists.']}]}\n",
      "400\n",
      "{'result': {'is_the_query_new': False, 'is_entity_entered': False}, 'error': [{'__all__': ['Entity db with this Query, Start pos and End pos already exists.']}]}\n",
      "200\n",
      "{'result': {'is_the_query_new': False, 'is_intent_inserted': False, 'is_trainset_inserted': False}, 'error': [{'query': ['Query db with this Query already exists.']}, {'intent': ['Intent db with this Intent already exists.']}]}\n",
      "400\n",
      "{'result': {'is_the_query_new': False, 'is_entity_entered': False}, 'error': [{'__all__': ['Entity db with this Query, Start pos and End pos already exists.']}]}\n"
     ]
    },
    {
     "name": "stdout",
     "output_type": "stream",
     "text": [
      "400\n",
      "{'result': {'is_the_query_new': False, 'is_entity_entered': False}, 'error': [{'__all__': ['Entity db with this Query, Start pos and End pos already exists.']}]}\n",
      "400\n",
      "{'result': {'is_the_query_new': False, 'is_entity_entered': False}, 'error': [{'__all__': ['Entity db with this Query, Start pos and End pos already exists.']}]}\n",
      "200\n",
      "{'result': {'is_the_query_new': True, 'is_intent_inserted': False, 'is_trainset_inserted': True}, 'error': [{'intent': ['Intent db with this Intent already exists.']}]}\n",
      "200\n",
      "{'result': {'is_the_query_new': False, 'is_entity_entered': True}, 'error': []}\n",
      "200\n",
      "{'result': {'is_the_query_new': True, 'is_intent_inserted': False, 'is_trainset_inserted': True}, 'error': [{'intent': ['Intent db with this Intent already exists.']}]}\n",
      "200\n",
      "{'result': {'is_the_query_new': False, 'is_entity_entered': True}, 'error': []}\n",
      "200\n",
      "{'result': {'is_the_query_new': True, 'is_intent_inserted': False, 'is_trainset_inserted': True}, 'error': [{'intent': ['Intent db with this Intent already exists.']}]}\n",
      "200\n",
      "{'result': {'is_the_query_new': False, 'is_entity_entered': True}, 'error': []}\n",
      "200\n",
      "{'result': {'is_the_query_new': False, 'is_intent_inserted': False, 'is_trainset_inserted': False}, 'error': [{'query': ['Query db with this Query already exists.']}, {'intent': ['Intent db with this Intent already exists.']}]}\n",
      "200\n",
      "{'result': {'is_the_query_new': False, 'is_entity_entered': True}, 'error': []}\n",
      "200\n",
      "{'result': {'is_the_query_new': True, 'is_intent_inserted': False, 'is_trainset_inserted': True}, 'error': [{'intent': ['Intent db with this Intent already exists.']}]}\n",
      "200\n",
      "{'result': {'is_the_query_new': False, 'is_entity_entered': True}, 'error': []}\n",
      "200\n",
      "{'result': {'is_the_query_new': True, 'is_intent_inserted': False, 'is_trainset_inserted': True}, 'error': [{'intent': ['Intent db with this Intent already exists.']}]}\n",
      "200\n",
      "{'result': {'is_the_query_new': False, 'is_entity_entered': True}, 'error': []}\n",
      "200\n",
      "{'result': {'is_the_query_new': True, 'is_intent_inserted': False, 'is_trainset_inserted': True}, 'error': [{'intent': ['Intent db with this Intent already exists.']}]}\n",
      "200\n",
      "{'result': {'is_the_query_new': False, 'is_entity_entered': True}, 'error': []}\n",
      "200\n",
      "{'result': {'is_the_query_new': False, 'is_intent_inserted': False, 'is_trainset_inserted': False}, 'error': [{'query': ['Query db with this Query already exists.']}, {'intent': ['Intent db with this Intent already exists.']}]}\n",
      "200\n",
      "{'result': {'is_the_query_new': False, 'is_entity_entered': True}, 'error': []}\n",
      "200\n",
      "{'result': {'is_the_query_new': True, 'is_intent_inserted': False, 'is_trainset_inserted': True}, 'error': [{'intent': ['Intent db with this Intent already exists.']}]}\n",
      "200\n",
      "{'result': {'is_the_query_new': False, 'is_entity_entered': True}, 'error': []}\n"
     ]
    }
   ],
   "source": [
    "def parsejson():\n",
    "    with open(\"data\\data.json\", \"r\", encoding= \"utf-8\") as corpus:\n",
    "        data = json.load(corpus)\n",
    "        common_examples = data[\"rasa_nlu_data\"][\"common_examples\"]\n",
    "        for user_expression in common_examples:\n",
    "            query = user_expression['text']\n",
    "            intent = user_expression['intent']\n",
    "            entities = user_expression['entities']\n",
    "            insert_intent(query, intent)\n",
    "            if entities:\n",
    "                for ent in entities:\n",
    "                    insert_named_entity(query, ent[\"start\"], ent[\"end\"], ent[\"entity\"])     \n",
    "parsejson()"
   ]
  },
  {
   "cell_type": "markdown",
   "metadata": {},
   "source": [
    "## Train Queries With Intents"
   ]
  },
  {
   "cell_type": "code",
   "execution_count": 16,
   "metadata": {},
   "outputs": [
    {
     "name": "stdout",
     "output_type": "stream",
     "text": [
      "200\n",
      "{'result': {'train': True}, 'error': []}\n"
     ]
    }
   ],
   "source": [
    "def train_intent():\n",
    "    ENDPOINT = \"train_intent/\"\n",
    "    resp = requests.post(BASE_URL+ENDPOINT)\n",
    "    print(resp.status_code)\n",
    "    print(resp.json())\n",
    "train_intent()"
   ]
  },
  {
   "cell_type": "code",
   "execution_count": 14,
   "metadata": {},
   "outputs": [],
   "source": []
  },
  {
   "cell_type": "code",
   "execution_count": null,
   "metadata": {},
   "outputs": [],
   "source": []
  },
  {
   "cell_type": "markdown",
   "metadata": {},
   "source": [
    "# Predict Intent"
   ]
  },
  {
   "cell_type": "code",
   "execution_count": 17,
   "metadata": {},
   "outputs": [
    {
     "data": {
      "text/plain": [
       "'greeting'"
      ]
     },
     "execution_count": 17,
     "metadata": {},
     "output_type": "execute_result"
    }
   ],
   "source": [
    "def predict_intent(end_user_expression):\n",
    "    ENDPOINT = \"predict_intent/\"\n",
    "#     end_user_expression = \"student\"\n",
    "    \n",
    "    data = {\n",
    "            \"end_user_expression\": end_user_expression,\n",
    "            }\n",
    "\n",
    "    resp = requests.post(BASE_URL+ENDPOINT, data=json.dumps(data))\n",
    "    if resp.status_code == 200:\n",
    "        data = resp.json()\n",
    "        return data['result']['predicted']\n",
    "predict_intent(end_user_expression = \"Happy\")"
   ]
  },
  {
   "cell_type": "markdown",
   "metadata": {},
   "source": [
    "## Add Named Entity"
   ]
  },
  {
   "cell_type": "code",
   "execution_count": 12,
   "metadata": {},
   "outputs": [],
   "source": [
    "def insert_named_entity(query, start, end, entity_name):\n",
    "    ENDPOINT = \"insert_named_entity/\"\n",
    "\n",
    "#     query = \"\"\"please, add a new student named Abhijith of class 10 division A hello\"\"\"\n",
    "#     named_entity = [\"A\"]\n",
    "    \n",
    "#     for word in named_entity:\n",
    "#         start = query.find(word)\n",
    "#         end = start + len(word)\n",
    "#         print(start, end, word)\n",
    "        \n",
    "    data= {\n",
    "        \"query\" : query,\n",
    "        \"entity_list\" : [(start, end, entity_name)]\n",
    "    }\n",
    "\n",
    "    resp = requests.post(BASE_URL+ENDPOINT, data=json.dumps(data))\n",
    "    print(resp.status_code)\n",
    "    print(resp.json())\n",
    "# insert_named_entity()"
   ]
  },
  {
   "cell_type": "markdown",
   "metadata": {},
   "source": [
    "# Train Queries With Named Entities"
   ]
  },
  {
   "cell_type": "code",
   "execution_count": 11,
   "metadata": {},
   "outputs": [
    {
     "data": {
      "text/plain": [
       "'Utterask_name().run()'"
      ]
     },
     "execution_count": 11,
     "metadata": {},
     "output_type": "execute_result"
    }
   ],
   "source": []
  },
  {
   "cell_type": "code",
   "execution_count": 17,
   "metadata": {},
   "outputs": [
    {
     "name": "stdout",
     "output_type": "stream",
     "text": [
      "200\n",
      "{'result': ['[+] Training completed...'], 'error': []}\n"
     ]
    }
   ],
   "source": [
    "def train_NE():\n",
    "    ENDPOINT = \"train_ne/\"\n",
    "    n_iter = 100\n",
    "    \n",
    "    data= {\n",
    "        \"n_iter\": n_iter\n",
    "    }\n",
    "    \n",
    "    resp = requests.post(BASE_URL+ENDPOINT, data=json.dumps(data))\n",
    "    print(resp.status_code)\n",
    "    print(resp.json())\n",
    "train_NE()"
   ]
  },
  {
   "cell_type": "markdown",
   "metadata": {},
   "source": [
    "# Predict NE"
   ]
  },
  {
   "cell_type": "code",
   "execution_count": 99,
   "metadata": {},
   "outputs": [
    {
     "ename": "ConnectionError",
     "evalue": "HTTPConnectionPool(host='127.0.0.1', port=8000): Max retries exceeded with url: /pedict_ne/ (Caused by NewConnectionError('<urllib3.connection.HTTPConnection object at 0x00000290929B2860>: Failed to establish a new connection: [WinError 10061] No connection could be made because the target machine actively refused it',))",
     "output_type": "error",
     "traceback": [
      "\u001b[1;31m---------------------------------------------------------------------------\u001b[0m",
      "\u001b[1;31mConnectionRefusedError\u001b[0m                    Traceback (most recent call last)",
      "\u001b[1;32mC:\\ProgramData\\Anaconda3\\lib\\site-packages\\urllib3\\connection.py\u001b[0m in \u001b[0;36m_new_conn\u001b[1;34m(self)\u001b[0m\n\u001b[0;32m    140\u001b[0m             conn = connection.create_connection(\n\u001b[1;32m--> 141\u001b[1;33m                 (self.host, self.port), self.timeout, **extra_kw)\n\u001b[0m\u001b[0;32m    142\u001b[0m \u001b[1;33m\u001b[0m\u001b[0m\n",
      "\u001b[1;32mC:\\ProgramData\\Anaconda3\\lib\\site-packages\\urllib3\\util\\connection.py\u001b[0m in \u001b[0;36mcreate_connection\u001b[1;34m(address, timeout, source_address, socket_options)\u001b[0m\n\u001b[0;32m     82\u001b[0m     \u001b[1;32mif\u001b[0m \u001b[0merr\u001b[0m \u001b[1;32mis\u001b[0m \u001b[1;32mnot\u001b[0m \u001b[1;32mNone\u001b[0m\u001b[1;33m:\u001b[0m\u001b[1;33m\u001b[0m\u001b[0m\n\u001b[1;32m---> 83\u001b[1;33m         \u001b[1;32mraise\u001b[0m \u001b[0merr\u001b[0m\u001b[1;33m\u001b[0m\u001b[0m\n\u001b[0m\u001b[0;32m     84\u001b[0m \u001b[1;33m\u001b[0m\u001b[0m\n",
      "\u001b[1;32mC:\\ProgramData\\Anaconda3\\lib\\site-packages\\urllib3\\util\\connection.py\u001b[0m in \u001b[0;36mcreate_connection\u001b[1;34m(address, timeout, source_address, socket_options)\u001b[0m\n\u001b[0;32m     72\u001b[0m                 \u001b[0msock\u001b[0m\u001b[1;33m.\u001b[0m\u001b[0mbind\u001b[0m\u001b[1;33m(\u001b[0m\u001b[0msource_address\u001b[0m\u001b[1;33m)\u001b[0m\u001b[1;33m\u001b[0m\u001b[0m\n\u001b[1;32m---> 73\u001b[1;33m             \u001b[0msock\u001b[0m\u001b[1;33m.\u001b[0m\u001b[0mconnect\u001b[0m\u001b[1;33m(\u001b[0m\u001b[0msa\u001b[0m\u001b[1;33m)\u001b[0m\u001b[1;33m\u001b[0m\u001b[0m\n\u001b[0m\u001b[0;32m     74\u001b[0m             \u001b[1;32mreturn\u001b[0m \u001b[0msock\u001b[0m\u001b[1;33m\u001b[0m\u001b[0m\n",
      "\u001b[1;31mConnectionRefusedError\u001b[0m: [WinError 10061] No connection could be made because the target machine actively refused it",
      "\nDuring handling of the above exception, another exception occurred:\n",
      "\u001b[1;31mNewConnectionError\u001b[0m                        Traceback (most recent call last)",
      "\u001b[1;32mC:\\ProgramData\\Anaconda3\\lib\\site-packages\\urllib3\\connectionpool.py\u001b[0m in \u001b[0;36murlopen\u001b[1;34m(self, method, url, body, headers, retries, redirect, assert_same_host, timeout, pool_timeout, release_conn, chunked, body_pos, **response_kw)\u001b[0m\n\u001b[0;32m    600\u001b[0m                                                   \u001b[0mbody\u001b[0m\u001b[1;33m=\u001b[0m\u001b[0mbody\u001b[0m\u001b[1;33m,\u001b[0m \u001b[0mheaders\u001b[0m\u001b[1;33m=\u001b[0m\u001b[0mheaders\u001b[0m\u001b[1;33m,\u001b[0m\u001b[1;33m\u001b[0m\u001b[0m\n\u001b[1;32m--> 601\u001b[1;33m                                                   chunked=chunked)\n\u001b[0m\u001b[0;32m    602\u001b[0m \u001b[1;33m\u001b[0m\u001b[0m\n",
      "\u001b[1;32mC:\\ProgramData\\Anaconda3\\lib\\site-packages\\urllib3\\connectionpool.py\u001b[0m in \u001b[0;36m_make_request\u001b[1;34m(self, conn, method, url, timeout, chunked, **httplib_request_kw)\u001b[0m\n\u001b[0;32m    356\u001b[0m         \u001b[1;32melse\u001b[0m\u001b[1;33m:\u001b[0m\u001b[1;33m\u001b[0m\u001b[0m\n\u001b[1;32m--> 357\u001b[1;33m             \u001b[0mconn\u001b[0m\u001b[1;33m.\u001b[0m\u001b[0mrequest\u001b[0m\u001b[1;33m(\u001b[0m\u001b[0mmethod\u001b[0m\u001b[1;33m,\u001b[0m \u001b[0murl\u001b[0m\u001b[1;33m,\u001b[0m \u001b[1;33m**\u001b[0m\u001b[0mhttplib_request_kw\u001b[0m\u001b[1;33m)\u001b[0m\u001b[1;33m\u001b[0m\u001b[0m\n\u001b[0m\u001b[0;32m    358\u001b[0m \u001b[1;33m\u001b[0m\u001b[0m\n",
      "\u001b[1;32mC:\\ProgramData\\Anaconda3\\lib\\http\\client.py\u001b[0m in \u001b[0;36mrequest\u001b[1;34m(self, method, url, body, headers, encode_chunked)\u001b[0m\n\u001b[0;32m   1238\u001b[0m         \u001b[1;34m\"\"\"Send a complete request to the server.\"\"\"\u001b[0m\u001b[1;33m\u001b[0m\u001b[0m\n\u001b[1;32m-> 1239\u001b[1;33m         \u001b[0mself\u001b[0m\u001b[1;33m.\u001b[0m\u001b[0m_send_request\u001b[0m\u001b[1;33m(\u001b[0m\u001b[0mmethod\u001b[0m\u001b[1;33m,\u001b[0m \u001b[0murl\u001b[0m\u001b[1;33m,\u001b[0m \u001b[0mbody\u001b[0m\u001b[1;33m,\u001b[0m \u001b[0mheaders\u001b[0m\u001b[1;33m,\u001b[0m \u001b[0mencode_chunked\u001b[0m\u001b[1;33m)\u001b[0m\u001b[1;33m\u001b[0m\u001b[0m\n\u001b[0m\u001b[0;32m   1240\u001b[0m \u001b[1;33m\u001b[0m\u001b[0m\n",
      "\u001b[1;32mC:\\ProgramData\\Anaconda3\\lib\\http\\client.py\u001b[0m in \u001b[0;36m_send_request\u001b[1;34m(self, method, url, body, headers, encode_chunked)\u001b[0m\n\u001b[0;32m   1284\u001b[0m             \u001b[0mbody\u001b[0m \u001b[1;33m=\u001b[0m \u001b[0m_encode\u001b[0m\u001b[1;33m(\u001b[0m\u001b[0mbody\u001b[0m\u001b[1;33m,\u001b[0m \u001b[1;34m'body'\u001b[0m\u001b[1;33m)\u001b[0m\u001b[1;33m\u001b[0m\u001b[0m\n\u001b[1;32m-> 1285\u001b[1;33m         \u001b[0mself\u001b[0m\u001b[1;33m.\u001b[0m\u001b[0mendheaders\u001b[0m\u001b[1;33m(\u001b[0m\u001b[0mbody\u001b[0m\u001b[1;33m,\u001b[0m \u001b[0mencode_chunked\u001b[0m\u001b[1;33m=\u001b[0m\u001b[0mencode_chunked\u001b[0m\u001b[1;33m)\u001b[0m\u001b[1;33m\u001b[0m\u001b[0m\n\u001b[0m\u001b[0;32m   1286\u001b[0m \u001b[1;33m\u001b[0m\u001b[0m\n",
      "\u001b[1;32mC:\\ProgramData\\Anaconda3\\lib\\http\\client.py\u001b[0m in \u001b[0;36mendheaders\u001b[1;34m(self, message_body, encode_chunked)\u001b[0m\n\u001b[0;32m   1233\u001b[0m             \u001b[1;32mraise\u001b[0m \u001b[0mCannotSendHeader\u001b[0m\u001b[1;33m(\u001b[0m\u001b[1;33m)\u001b[0m\u001b[1;33m\u001b[0m\u001b[0m\n\u001b[1;32m-> 1234\u001b[1;33m         \u001b[0mself\u001b[0m\u001b[1;33m.\u001b[0m\u001b[0m_send_output\u001b[0m\u001b[1;33m(\u001b[0m\u001b[0mmessage_body\u001b[0m\u001b[1;33m,\u001b[0m \u001b[0mencode_chunked\u001b[0m\u001b[1;33m=\u001b[0m\u001b[0mencode_chunked\u001b[0m\u001b[1;33m)\u001b[0m\u001b[1;33m\u001b[0m\u001b[0m\n\u001b[0m\u001b[0;32m   1235\u001b[0m \u001b[1;33m\u001b[0m\u001b[0m\n",
      "\u001b[1;32mC:\\ProgramData\\Anaconda3\\lib\\http\\client.py\u001b[0m in \u001b[0;36m_send_output\u001b[1;34m(self, message_body, encode_chunked)\u001b[0m\n\u001b[0;32m   1025\u001b[0m         \u001b[1;32mdel\u001b[0m \u001b[0mself\u001b[0m\u001b[1;33m.\u001b[0m\u001b[0m_buffer\u001b[0m\u001b[1;33m[\u001b[0m\u001b[1;33m:\u001b[0m\u001b[1;33m]\u001b[0m\u001b[1;33m\u001b[0m\u001b[0m\n\u001b[1;32m-> 1026\u001b[1;33m         \u001b[0mself\u001b[0m\u001b[1;33m.\u001b[0m\u001b[0msend\u001b[0m\u001b[1;33m(\u001b[0m\u001b[0mmsg\u001b[0m\u001b[1;33m)\u001b[0m\u001b[1;33m\u001b[0m\u001b[0m\n\u001b[0m\u001b[0;32m   1027\u001b[0m \u001b[1;33m\u001b[0m\u001b[0m\n",
      "\u001b[1;32mC:\\ProgramData\\Anaconda3\\lib\\http\\client.py\u001b[0m in \u001b[0;36msend\u001b[1;34m(self, data)\u001b[0m\n\u001b[0;32m    963\u001b[0m             \u001b[1;32mif\u001b[0m \u001b[0mself\u001b[0m\u001b[1;33m.\u001b[0m\u001b[0mauto_open\u001b[0m\u001b[1;33m:\u001b[0m\u001b[1;33m\u001b[0m\u001b[0m\n\u001b[1;32m--> 964\u001b[1;33m                 \u001b[0mself\u001b[0m\u001b[1;33m.\u001b[0m\u001b[0mconnect\u001b[0m\u001b[1;33m(\u001b[0m\u001b[1;33m)\u001b[0m\u001b[1;33m\u001b[0m\u001b[0m\n\u001b[0m\u001b[0;32m    965\u001b[0m             \u001b[1;32melse\u001b[0m\u001b[1;33m:\u001b[0m\u001b[1;33m\u001b[0m\u001b[0m\n",
      "\u001b[1;32mC:\\ProgramData\\Anaconda3\\lib\\site-packages\\urllib3\\connection.py\u001b[0m in \u001b[0;36mconnect\u001b[1;34m(self)\u001b[0m\n\u001b[0;32m    165\u001b[0m     \u001b[1;32mdef\u001b[0m \u001b[0mconnect\u001b[0m\u001b[1;33m(\u001b[0m\u001b[0mself\u001b[0m\u001b[1;33m)\u001b[0m\u001b[1;33m:\u001b[0m\u001b[1;33m\u001b[0m\u001b[0m\n\u001b[1;32m--> 166\u001b[1;33m         \u001b[0mconn\u001b[0m \u001b[1;33m=\u001b[0m \u001b[0mself\u001b[0m\u001b[1;33m.\u001b[0m\u001b[0m_new_conn\u001b[0m\u001b[1;33m(\u001b[0m\u001b[1;33m)\u001b[0m\u001b[1;33m\u001b[0m\u001b[0m\n\u001b[0m\u001b[0;32m    167\u001b[0m         \u001b[0mself\u001b[0m\u001b[1;33m.\u001b[0m\u001b[0m_prepare_conn\u001b[0m\u001b[1;33m(\u001b[0m\u001b[0mconn\u001b[0m\u001b[1;33m)\u001b[0m\u001b[1;33m\u001b[0m\u001b[0m\n",
      "\u001b[1;32mC:\\ProgramData\\Anaconda3\\lib\\site-packages\\urllib3\\connection.py\u001b[0m in \u001b[0;36m_new_conn\u001b[1;34m(self)\u001b[0m\n\u001b[0;32m    149\u001b[0m             raise NewConnectionError(\n\u001b[1;32m--> 150\u001b[1;33m                 self, \"Failed to establish a new connection: %s\" % e)\n\u001b[0m\u001b[0;32m    151\u001b[0m \u001b[1;33m\u001b[0m\u001b[0m\n",
      "\u001b[1;31mNewConnectionError\u001b[0m: <urllib3.connection.HTTPConnection object at 0x00000290929B2860>: Failed to establish a new connection: [WinError 10061] No connection could be made because the target machine actively refused it",
      "\nDuring handling of the above exception, another exception occurred:\n",
      "\u001b[1;31mMaxRetryError\u001b[0m                             Traceback (most recent call last)",
      "\u001b[1;32mC:\\ProgramData\\Anaconda3\\lib\\site-packages\\requests\\adapters.py\u001b[0m in \u001b[0;36msend\u001b[1;34m(self, request, stream, timeout, verify, cert, proxies)\u001b[0m\n\u001b[0;32m    439\u001b[0m                     \u001b[0mretries\u001b[0m\u001b[1;33m=\u001b[0m\u001b[0mself\u001b[0m\u001b[1;33m.\u001b[0m\u001b[0mmax_retries\u001b[0m\u001b[1;33m,\u001b[0m\u001b[1;33m\u001b[0m\u001b[0m\n\u001b[1;32m--> 440\u001b[1;33m                     \u001b[0mtimeout\u001b[0m\u001b[1;33m=\u001b[0m\u001b[0mtimeout\u001b[0m\u001b[1;33m\u001b[0m\u001b[0m\n\u001b[0m\u001b[0;32m    441\u001b[0m                 )\n",
      "\u001b[1;32mC:\\ProgramData\\Anaconda3\\lib\\site-packages\\urllib3\\connectionpool.py\u001b[0m in \u001b[0;36murlopen\u001b[1;34m(self, method, url, body, headers, retries, redirect, assert_same_host, timeout, pool_timeout, release_conn, chunked, body_pos, **response_kw)\u001b[0m\n\u001b[0;32m    638\u001b[0m             retries = retries.increment(method, url, error=e, _pool=self,\n\u001b[1;32m--> 639\u001b[1;33m                                         _stacktrace=sys.exc_info()[2])\n\u001b[0m\u001b[0;32m    640\u001b[0m             \u001b[0mretries\u001b[0m\u001b[1;33m.\u001b[0m\u001b[0msleep\u001b[0m\u001b[1;33m(\u001b[0m\u001b[1;33m)\u001b[0m\u001b[1;33m\u001b[0m\u001b[0m\n",
      "\u001b[1;32mC:\\ProgramData\\Anaconda3\\lib\\site-packages\\urllib3\\util\\retry.py\u001b[0m in \u001b[0;36mincrement\u001b[1;34m(self, method, url, response, error, _pool, _stacktrace)\u001b[0m\n\u001b[0;32m    387\u001b[0m         \u001b[1;32mif\u001b[0m \u001b[0mnew_retry\u001b[0m\u001b[1;33m.\u001b[0m\u001b[0mis_exhausted\u001b[0m\u001b[1;33m(\u001b[0m\u001b[1;33m)\u001b[0m\u001b[1;33m:\u001b[0m\u001b[1;33m\u001b[0m\u001b[0m\n\u001b[1;32m--> 388\u001b[1;33m             \u001b[1;32mraise\u001b[0m \u001b[0mMaxRetryError\u001b[0m\u001b[1;33m(\u001b[0m\u001b[0m_pool\u001b[0m\u001b[1;33m,\u001b[0m \u001b[0murl\u001b[0m\u001b[1;33m,\u001b[0m \u001b[0merror\u001b[0m \u001b[1;32mor\u001b[0m \u001b[0mResponseError\u001b[0m\u001b[1;33m(\u001b[0m\u001b[0mcause\u001b[0m\u001b[1;33m)\u001b[0m\u001b[1;33m)\u001b[0m\u001b[1;33m\u001b[0m\u001b[0m\n\u001b[0m\u001b[0;32m    389\u001b[0m \u001b[1;33m\u001b[0m\u001b[0m\n",
      "\u001b[1;31mMaxRetryError\u001b[0m: HTTPConnectionPool(host='127.0.0.1', port=8000): Max retries exceeded with url: /pedict_ne/ (Caused by NewConnectionError('<urllib3.connection.HTTPConnection object at 0x00000290929B2860>: Failed to establish a new connection: [WinError 10061] No connection could be made because the target machine actively refused it',))",
      "\nDuring handling of the above exception, another exception occurred:\n",
      "\u001b[1;31mConnectionError\u001b[0m                           Traceback (most recent call last)",
      "\u001b[1;32m<ipython-input-99-d4d184c69174>\u001b[0m in \u001b[0;36m<module>\u001b[1;34m()\u001b[0m\n\u001b[0;32m     11\u001b[0m         \u001b[0mdata\u001b[0m \u001b[1;33m=\u001b[0m \u001b[0mresp\u001b[0m\u001b[1;33m.\u001b[0m\u001b[0mjson\u001b[0m\u001b[1;33m(\u001b[0m\u001b[1;33m)\u001b[0m\u001b[1;33m\u001b[0m\u001b[0m\n\u001b[0;32m     12\u001b[0m         \u001b[1;32mreturn\u001b[0m \u001b[0mdata\u001b[0m\u001b[1;33m[\u001b[0m\u001b[1;34m'result'\u001b[0m\u001b[1;33m]\u001b[0m\u001b[1;33m\u001b[0m\u001b[0m\n\u001b[1;32m---> 13\u001b[1;33m \u001b[0mpredict\u001b[0m \u001b[1;33m=\u001b[0m \u001b[0mpedict_ne\u001b[0m\u001b[1;33m(\u001b[0m\u001b[1;34m\"add student named Alan of class 10\"\u001b[0m\u001b[1;33m)\u001b[0m\u001b[1;33m\u001b[0m\u001b[0m\n\u001b[0m\u001b[0;32m     14\u001b[0m \u001b[0mprint\u001b[0m\u001b[1;33m(\u001b[0m\u001b[0mpredict\u001b[0m\u001b[1;33m)\u001b[0m\u001b[1;33m\u001b[0m\u001b[0m\n\u001b[0;32m     15\u001b[0m \u001b[1;31m# print(predict[0][\"entity\"])\u001b[0m\u001b[1;33m\u001b[0m\u001b[1;33m\u001b[0m\u001b[0m\n",
      "\u001b[1;32m<ipython-input-99-d4d184c69174>\u001b[0m in \u001b[0;36mpedict_ne\u001b[1;34m(end_user_expression)\u001b[0m\n\u001b[0;32m      7\u001b[0m     }\n\u001b[0;32m      8\u001b[0m \u001b[1;33m\u001b[0m\u001b[0m\n\u001b[1;32m----> 9\u001b[1;33m     \u001b[0mresp\u001b[0m \u001b[1;33m=\u001b[0m \u001b[0mrequests\u001b[0m\u001b[1;33m.\u001b[0m\u001b[0mpost\u001b[0m\u001b[1;33m(\u001b[0m\u001b[0mBASE_URL\u001b[0m\u001b[1;33m+\u001b[0m\u001b[0mENDPOINT\u001b[0m\u001b[1;33m,\u001b[0m \u001b[0mdata\u001b[0m\u001b[1;33m=\u001b[0m\u001b[0mjson\u001b[0m\u001b[1;33m.\u001b[0m\u001b[0mdumps\u001b[0m\u001b[1;33m(\u001b[0m\u001b[0mdata\u001b[0m\u001b[1;33m)\u001b[0m\u001b[1;33m)\u001b[0m\u001b[1;33m\u001b[0m\u001b[0m\n\u001b[0m\u001b[0;32m     10\u001b[0m     \u001b[1;32mif\u001b[0m \u001b[0mresp\u001b[0m\u001b[1;33m.\u001b[0m\u001b[0mstatus_code\u001b[0m \u001b[1;33m==\u001b[0m \u001b[1;36m200\u001b[0m\u001b[1;33m:\u001b[0m\u001b[1;33m\u001b[0m\u001b[0m\n\u001b[0;32m     11\u001b[0m         \u001b[0mdata\u001b[0m \u001b[1;33m=\u001b[0m \u001b[0mresp\u001b[0m\u001b[1;33m.\u001b[0m\u001b[0mjson\u001b[0m\u001b[1;33m(\u001b[0m\u001b[1;33m)\u001b[0m\u001b[1;33m\u001b[0m\u001b[0m\n",
      "\u001b[1;32mC:\\ProgramData\\Anaconda3\\lib\\site-packages\\requests\\api.py\u001b[0m in \u001b[0;36mpost\u001b[1;34m(url, data, json, **kwargs)\u001b[0m\n\u001b[0;32m    110\u001b[0m     \"\"\"\n\u001b[0;32m    111\u001b[0m \u001b[1;33m\u001b[0m\u001b[0m\n\u001b[1;32m--> 112\u001b[1;33m     \u001b[1;32mreturn\u001b[0m \u001b[0mrequest\u001b[0m\u001b[1;33m(\u001b[0m\u001b[1;34m'post'\u001b[0m\u001b[1;33m,\u001b[0m \u001b[0murl\u001b[0m\u001b[1;33m,\u001b[0m \u001b[0mdata\u001b[0m\u001b[1;33m=\u001b[0m\u001b[0mdata\u001b[0m\u001b[1;33m,\u001b[0m \u001b[0mjson\u001b[0m\u001b[1;33m=\u001b[0m\u001b[0mjson\u001b[0m\u001b[1;33m,\u001b[0m \u001b[1;33m**\u001b[0m\u001b[0mkwargs\u001b[0m\u001b[1;33m)\u001b[0m\u001b[1;33m\u001b[0m\u001b[0m\n\u001b[0m\u001b[0;32m    113\u001b[0m \u001b[1;33m\u001b[0m\u001b[0m\n\u001b[0;32m    114\u001b[0m \u001b[1;33m\u001b[0m\u001b[0m\n",
      "\u001b[1;32mC:\\ProgramData\\Anaconda3\\lib\\site-packages\\requests\\api.py\u001b[0m in \u001b[0;36mrequest\u001b[1;34m(method, url, **kwargs)\u001b[0m\n\u001b[0;32m     56\u001b[0m     \u001b[1;31m# cases, and look like a memory leak in others.\u001b[0m\u001b[1;33m\u001b[0m\u001b[1;33m\u001b[0m\u001b[0m\n\u001b[0;32m     57\u001b[0m     \u001b[1;32mwith\u001b[0m \u001b[0msessions\u001b[0m\u001b[1;33m.\u001b[0m\u001b[0mSession\u001b[0m\u001b[1;33m(\u001b[0m\u001b[1;33m)\u001b[0m \u001b[1;32mas\u001b[0m \u001b[0msession\u001b[0m\u001b[1;33m:\u001b[0m\u001b[1;33m\u001b[0m\u001b[0m\n\u001b[1;32m---> 58\u001b[1;33m         \u001b[1;32mreturn\u001b[0m \u001b[0msession\u001b[0m\u001b[1;33m.\u001b[0m\u001b[0mrequest\u001b[0m\u001b[1;33m(\u001b[0m\u001b[0mmethod\u001b[0m\u001b[1;33m=\u001b[0m\u001b[0mmethod\u001b[0m\u001b[1;33m,\u001b[0m \u001b[0murl\u001b[0m\u001b[1;33m=\u001b[0m\u001b[0murl\u001b[0m\u001b[1;33m,\u001b[0m \u001b[1;33m**\u001b[0m\u001b[0mkwargs\u001b[0m\u001b[1;33m)\u001b[0m\u001b[1;33m\u001b[0m\u001b[0m\n\u001b[0m\u001b[0;32m     59\u001b[0m \u001b[1;33m\u001b[0m\u001b[0m\n\u001b[0;32m     60\u001b[0m \u001b[1;33m\u001b[0m\u001b[0m\n",
      "\u001b[1;32mC:\\ProgramData\\Anaconda3\\lib\\site-packages\\requests\\sessions.py\u001b[0m in \u001b[0;36mrequest\u001b[1;34m(self, method, url, params, data, headers, cookies, files, auth, timeout, allow_redirects, proxies, hooks, stream, verify, cert, json)\u001b[0m\n\u001b[0;32m    506\u001b[0m         }\n\u001b[0;32m    507\u001b[0m         \u001b[0msend_kwargs\u001b[0m\u001b[1;33m.\u001b[0m\u001b[0mupdate\u001b[0m\u001b[1;33m(\u001b[0m\u001b[0msettings\u001b[0m\u001b[1;33m)\u001b[0m\u001b[1;33m\u001b[0m\u001b[0m\n\u001b[1;32m--> 508\u001b[1;33m         \u001b[0mresp\u001b[0m \u001b[1;33m=\u001b[0m \u001b[0mself\u001b[0m\u001b[1;33m.\u001b[0m\u001b[0msend\u001b[0m\u001b[1;33m(\u001b[0m\u001b[0mprep\u001b[0m\u001b[1;33m,\u001b[0m \u001b[1;33m**\u001b[0m\u001b[0msend_kwargs\u001b[0m\u001b[1;33m)\u001b[0m\u001b[1;33m\u001b[0m\u001b[0m\n\u001b[0m\u001b[0;32m    509\u001b[0m \u001b[1;33m\u001b[0m\u001b[0m\n\u001b[0;32m    510\u001b[0m         \u001b[1;32mreturn\u001b[0m \u001b[0mresp\u001b[0m\u001b[1;33m\u001b[0m\u001b[0m\n",
      "\u001b[1;32mC:\\ProgramData\\Anaconda3\\lib\\site-packages\\requests\\sessions.py\u001b[0m in \u001b[0;36msend\u001b[1;34m(self, request, **kwargs)\u001b[0m\n\u001b[0;32m    616\u001b[0m \u001b[1;33m\u001b[0m\u001b[0m\n\u001b[0;32m    617\u001b[0m         \u001b[1;31m# Send the request\u001b[0m\u001b[1;33m\u001b[0m\u001b[1;33m\u001b[0m\u001b[0m\n\u001b[1;32m--> 618\u001b[1;33m         \u001b[0mr\u001b[0m \u001b[1;33m=\u001b[0m \u001b[0madapter\u001b[0m\u001b[1;33m.\u001b[0m\u001b[0msend\u001b[0m\u001b[1;33m(\u001b[0m\u001b[0mrequest\u001b[0m\u001b[1;33m,\u001b[0m \u001b[1;33m**\u001b[0m\u001b[0mkwargs\u001b[0m\u001b[1;33m)\u001b[0m\u001b[1;33m\u001b[0m\u001b[0m\n\u001b[0m\u001b[0;32m    619\u001b[0m \u001b[1;33m\u001b[0m\u001b[0m\n\u001b[0;32m    620\u001b[0m         \u001b[1;31m# Total elapsed time of the request (approximately)\u001b[0m\u001b[1;33m\u001b[0m\u001b[1;33m\u001b[0m\u001b[0m\n",
      "\u001b[1;32mC:\\ProgramData\\Anaconda3\\lib\\site-packages\\requests\\adapters.py\u001b[0m in \u001b[0;36msend\u001b[1;34m(self, request, stream, timeout, verify, cert, proxies)\u001b[0m\n\u001b[0;32m    506\u001b[0m                 \u001b[1;32mraise\u001b[0m \u001b[0mSSLError\u001b[0m\u001b[1;33m(\u001b[0m\u001b[0me\u001b[0m\u001b[1;33m,\u001b[0m \u001b[0mrequest\u001b[0m\u001b[1;33m=\u001b[0m\u001b[0mrequest\u001b[0m\u001b[1;33m)\u001b[0m\u001b[1;33m\u001b[0m\u001b[0m\n\u001b[0;32m    507\u001b[0m \u001b[1;33m\u001b[0m\u001b[0m\n\u001b[1;32m--> 508\u001b[1;33m             \u001b[1;32mraise\u001b[0m \u001b[0mConnectionError\u001b[0m\u001b[1;33m(\u001b[0m\u001b[0me\u001b[0m\u001b[1;33m,\u001b[0m \u001b[0mrequest\u001b[0m\u001b[1;33m=\u001b[0m\u001b[0mrequest\u001b[0m\u001b[1;33m)\u001b[0m\u001b[1;33m\u001b[0m\u001b[0m\n\u001b[0m\u001b[0;32m    509\u001b[0m \u001b[1;33m\u001b[0m\u001b[0m\n\u001b[0;32m    510\u001b[0m         \u001b[1;32mexcept\u001b[0m \u001b[0mClosedPoolError\u001b[0m \u001b[1;32mas\u001b[0m \u001b[0me\u001b[0m\u001b[1;33m:\u001b[0m\u001b[1;33m\u001b[0m\u001b[0m\n",
      "\u001b[1;31mConnectionError\u001b[0m: HTTPConnectionPool(host='127.0.0.1', port=8000): Max retries exceeded with url: /pedict_ne/ (Caused by NewConnectionError('<urllib3.connection.HTTPConnection object at 0x00000290929B2860>: Failed to establish a new connection: [WinError 10061] No connection could be made because the target machine actively refused it',))"
     ]
    }
   ],
   "source": [
    "def pedict_ne(end_user_expression):\n",
    "    ENDPOINT = \"pedict_ne/\"\n",
    "#     end_user_expression = \"add student named Alan of class 10\"\n",
    "    \n",
    "    data= {\n",
    "        \"end_user_expression\": end_user_expression\n",
    "    }\n",
    "    \n",
    "    resp = requests.post(BASE_URL+ENDPOINT, data=json.dumps(data))\n",
    "    if resp.status_code == 200:\n",
    "        data = resp.json()\n",
    "        return data['result']\n",
    "predict = pedict_ne(\"add student named Alan of class 10\")\n",
    "print(predict)\n",
    "# print(predict[0][\"entity\"])\n",
    "# print(predict[0][\"entity\"][0].items())\n",
    "# print(predict[0][\"entity\"][0][\"type\"])\n",
    "# print(predict[0][\"entity\"][0][\"value\"])\n",
    "# print(predict[0][\"entity\"][1].items())\n",
    "# print(predict[0][\"entity\"][1][\"type\"])\n",
    "# print(predict[0][\"entity\"][1][\"value\"])\n",
    "\n",
    "# length = len(predict[0][\"entity\"])\n",
    "# for i in range(len(predict[0][\"entity\"])):\n",
    "#     key, val = next(iter(predict[0][\"entity\"][i].items()))\n",
    "#     print(key, val)\n",
    "\n",
    "for ner in predict:\n",
    "    for ent in ner[\"entity\"]:\n",
    "        print(ent[\"type\"])"
   ]
  },
  {
   "cell_type": "markdown",
   "metadata": {},
   "source": [
    "# List All Entity names"
   ]
  },
  {
   "cell_type": "code",
   "execution_count": 100,
   "metadata": {},
   "outputs": [
    {
     "name": "stdout",
     "output_type": "stream",
     "text": [
      "200\n",
      "[{'name': 1}, {'class': 2}, {'division': 3}]\n",
      "1\n",
      "2\n",
      "3\n"
     ]
    }
   ],
   "source": [
    "def all_entity_names():\n",
    "    ENDPOINT = \"all_entity_names/\"\n",
    "    \n",
    "    data = {\n",
    "        \"get_entity\": False\n",
    "    }\n",
    "    \n",
    "    resp = requests.post(BASE_URL+ENDPOINT, data=json.dumps(data))\n",
    "    print(resp.status_code)\n",
    "    print(resp.json())\n",
    "    return resp.json()\n",
    "get = all_entity_names()\n",
    "length = len(get)\n",
    "for i in range(length):\n",
    "    key, val = next(iter(get[i].items()))\n",
    "    # printing result  \n",
    "#     print(key) \n",
    "    print(val) "
   ]
  },
  {
   "cell_type": "markdown",
   "metadata": {},
   "source": [
    "# Delete Trained Data ==>Warning Think Before Running This"
   ]
  },
  {
   "cell_type": "code",
   "execution_count": null,
   "metadata": {},
   "outputs": [],
   "source": [
    "def delete_trained_data():\n",
    "    ENDPOINT = \"delete_trained_data/\"\n",
    "    resp = requests.post(BASE_URL+ENDPOINT)\n",
    "    print(resp.status_code)\n",
    "    print(resp.json())\n",
    "delete_trained_data()"
   ]
  },
  {
   "cell_type": "markdown",
   "metadata": {},
   "source": [
    "# Get All Entities"
   ]
  },
  {
   "cell_type": "raw",
   "metadata": {},
   "source": [
    "# flag = True give all the trained entities\n",
    "# flag = Flase give all non trained entities"
   ]
  },
  {
   "cell_type": "code",
   "execution_count": 68,
   "metadata": {},
   "outputs": [
    {
     "name": "stdout",
     "output_type": "stream",
     "text": [
      "200\n",
      "[{'id': 2, 'query': 'please, add a new student named Abhijith of class 10', 'entity_name': 'name', 'start_pos': 32, 'end_pos': 40, 'is_trained': False}, {'id': 3, 'query': 'please, add a new student named Abhijith of class 10 division A', 'entity_name': 'name', 'start_pos': 32, 'end_pos': 40, 'is_trained': False}, {'id': 4, 'query': 'please, add a new student named Abhijith to division A of class 10', 'entity_name': 'name', 'start_pos': 32, 'end_pos': 40, 'is_trained': False}, {'id': 5, 'query': 'please, add a new student Abhijith to division A of class 10', 'entity_name': 'name', 'start_pos': 26, 'end_pos': 34, 'is_trained': False}, {'id': 6, 'query': 'please, update name of a student Abhijith of class 10 division A to Abhijith M', 'entity_name': 'name', 'start_pos': 33, 'end_pos': 41, 'is_trained': False}, {'id': 7, 'query': 'please, change name of a student Abhijith of class 10 division A to Abhijith M', 'entity_name': 'name', 'start_pos': 33, 'end_pos': 41, 'is_trained': False}, {'id': 8, 'query': 'please, alter the name of a student Abhijith of class 10 division A to Abhijith M', 'entity_name': 'name', 'start_pos': 36, 'end_pos': 44, 'is_trained': False}, {'id': 9, 'query': 'please, alter the name of a student Abhijith of class 10 division A to Abhijith M', 'entity_name': 'class', 'start_pos': 54, 'end_pos': 56, 'is_trained': False}, {'id': 10, 'query': 'please, add a new student named Abhijith of class 10', 'entity_name': 'class', 'start_pos': 50, 'end_pos': 52, 'is_trained': False}, {'id': 11, 'query': 'please, add a new student named Abhijith of class 10 division A', 'entity_name': 'class', 'start_pos': 50, 'end_pos': 52, 'is_trained': False}, {'id': 12, 'query': 'please, add a new student named Abhijith to division A of class 10', 'entity_name': 'class', 'start_pos': 64, 'end_pos': 66, 'is_trained': False}, {'id': 13, 'query': 'please, add a new student Abhijith to division A of class 10', 'entity_name': 'class', 'start_pos': 58, 'end_pos': 60, 'is_trained': False}, {'id': 14, 'query': 'please, update name of a student Abhijith of class 10 division A to Abhijith M', 'entity_name': 'class', 'start_pos': 51, 'end_pos': 53, 'is_trained': False}, {'id': 15, 'query': 'please, change name of a student Abhijith of class 10 division A to Abhijith M', 'entity_name': 'class', 'start_pos': 51, 'end_pos': 53, 'is_trained': False}, {'id': 16, 'query': 'please, change name of a student Abhijith of class 10 division A to Abhijith M', 'entity_name': 'division', 'start_pos': 33, 'end_pos': 34, 'is_trained': False}, {'id': 17, 'query': 'please, update name of a student Abhijith of class 10 division A to Abhijith M', 'entity_name': 'division', 'start_pos': 33, 'end_pos': 34, 'is_trained': False}, {'id': 18, 'query': 'please, add a new student Abhijith to division A of class 10', 'entity_name': 'division', 'start_pos': 26, 'end_pos': 27, 'is_trained': False}, {'id': 19, 'query': 'please, add a new student named Abhijith to division A of class 10', 'entity_name': 'division', 'start_pos': 32, 'end_pos': 33, 'is_trained': False}, {'id': 20, 'query': 'please, add a new student named Abhijith of class 10 division A', 'entity_name': 'division', 'start_pos': 32, 'end_pos': 33, 'is_trained': False}]\n"
     ]
    }
   ],
   "source": [
    "def all_entities():\n",
    "    ENDPOINT = \"all_entities/\"\n",
    "    \n",
    "    data = {\n",
    "        \"is_trained\": False\n",
    "    }\n",
    "    \n",
    "    resp = requests.post(BASE_URL+ENDPOINT, data=json.dumps(data))\n",
    "    print(resp.status_code)\n",
    "    print(resp.json())\n",
    "all_entities()"
   ]
  },
  {
   "cell_type": "markdown",
   "metadata": {},
   "source": [
    "# Delete Entities"
   ]
  },
  {
   "cell_type": "raw",
   "metadata": {},
   "source": [
    "Delete Entities by ID means give ID, if it is there that entity will be removed"
   ]
  },
  {
   "cell_type": "code",
   "execution_count": null,
   "metadata": {},
   "outputs": [],
   "source": [
    "def delete_entities_by_id():\n",
    "    ENDPOINT = \"delete_entities_by_id/\"\n",
    "    flag = \"<---Enter Entity ID--->\"\n",
    "    \n",
    "    data = {\n",
    "        \"is_trained\": flag\n",
    "    }\n",
    "    \n",
    "    resp = requests.post(BASE_URL+ENDPOINT, data=json.dumps(data))\n",
    "    print(resp.status_code)\n",
    "    print(resp.json())\n",
    "delete_entities_by_id()"
   ]
  },
  {
   "cell_type": "markdown",
   "metadata": {},
   "source": [
    "# Update Entities"
   ]
  },
  {
   "cell_type": "code",
   "execution_count": null,
   "metadata": {},
   "outputs": [],
   "source": [
    "def insert_named_entity():\n",
    "    ENDPOINT = \"update_entities/\"\n",
    "\n",
    "    query = \"\"\"<---Query Statement--->\"\"\"\n",
    "    named_entity = [\"<---Named Entity(ies) (start, end, word)--->\"]\n",
    "    \n",
    "    for word in named_entity:\n",
    "        start = query.find(word)\n",
    "        end = start + len(word)\n",
    "        print(start, end, word)\n",
    "        \n",
    "        data= {\n",
    "            \"query\" : query,\n",
    "            \"entity_list\" : [(start, end, word)]\n",
    "        }\n",
    "        \n",
    "        resp = requests.post(BASE_URL+ENDPOINT, data=json.dumps(data))\n",
    "        print(resp.status_code)\n",
    "        print(resp.json())\n",
    "insert_named_entity()"
   ]
  },
  {
   "cell_type": "markdown",
   "metadata": {},
   "source": [
    "## Add intent tagged_plots_movielens"
   ]
  },
  {
   "cell_type": "raw",
   "metadata": {},
   "source": [
    "import pandas as pd\n",
    "\n",
    "df = pd.read_csv('data/tagged_plots_movielens.csv')\n",
    "df = df.dropna()\n",
    "\n",
    "\n",
    "my_tags = ['sci-fi' , 'action', 'comedy', 'fantasy', 'animation', 'romance']\n",
    "\n",
    "\n",
    "for index in range(len(df)):\n",
    "    try:\n",
    "        example = df[df.index == index][['plot', 'tag']].values[0]\n",
    "        if len(example) > 0:\n",
    "            end_user_expression = example[0]\n",
    "            intent = example[1]\n",
    "            print(end_user_expression)\n",
    "            print(intent)\n",
    "\n",
    "            #  calling api\n",
    "            add_end_user_expression(end_user_expression, intent)\n",
    "    except:\n",
    "        print(index, \"can't read data because there is no data\")"
   ]
  },
  {
   "cell_type": "markdown",
   "metadata": {},
   "source": [
    "## Intractive learning"
   ]
  },
  {
   "cell_type": "code",
   "execution_count": 1,
   "metadata": {},
   "outputs": [
    {
     "name": "stdout",
     "output_type": "stream",
     "text": [
      "You(quit-q): hi\n"
     ]
    },
    {
     "ename": "TypeError",
     "evalue": "'NoneType' object is not iterable",
     "output_type": "error",
     "traceback": [
      "\u001b[1;31m---------------------------------------------------------------------------\u001b[0m",
      "\u001b[1;31mTypeError\u001b[0m                                 Traceback (most recent call last)",
      "\u001b[1;32m<ipython-input-1-69db32870f40>\u001b[0m in \u001b[0;36m<module>\u001b[1;34m()\u001b[0m\n\u001b[0;32m    141\u001b[0m \u001b[1;33m\u001b[0m\u001b[0m\n\u001b[0;32m    142\u001b[0m \u001b[1;33m\u001b[0m\u001b[0m\n\u001b[1;32m--> 143\u001b[1;33m \u001b[0mChatBot\u001b[0m\u001b[1;33m.\u001b[0m\u001b[0mchat\u001b[0m\u001b[1;33m(\u001b[0m\u001b[1;33m)\u001b[0m\u001b[1;33m\u001b[0m\u001b[0m\n\u001b[0m",
      "\u001b[1;32m<ipython-input-1-69db32870f40>\u001b[0m in \u001b[0;36mchat\u001b[1;34m()\u001b[0m\n\u001b[0;32m     82\u001b[0m \u001b[1;33m\u001b[0m\u001b[0m\n\u001b[0;32m     83\u001b[0m             \u001b[1;31m# 1. find intent\u001b[0m\u001b[1;33m\u001b[0m\u001b[1;33m\u001b[0m\u001b[0m\n\u001b[1;32m---> 84\u001b[1;33m             \u001b[0mintent\u001b[0m\u001b[1;33m,\u001b[0m \u001b[0mintent_id\u001b[0m \u001b[1;33m=\u001b[0m \u001b[0mpredict_intent\u001b[0m\u001b[1;33m(\u001b[0m\u001b[0mend_user_exp\u001b[0m\u001b[1;33m)\u001b[0m\u001b[1;33m\u001b[0m\u001b[0m\n\u001b[0m\u001b[0;32m     85\u001b[0m             \u001b[0mprint\u001b[0m\u001b[1;33m(\u001b[0m\u001b[0mint\u001b[0m\u001b[1;33m(\u001b[0m\u001b[0mintent_id\u001b[0m\u001b[1;33m)\u001b[0m\u001b[1;33m,\u001b[0m \u001b[0mintent\u001b[0m\u001b[1;33m)\u001b[0m\u001b[1;33m\u001b[0m\u001b[0m\n\u001b[0;32m     86\u001b[0m \u001b[1;33m\u001b[0m\u001b[0m\n",
      "\u001b[1;31mTypeError\u001b[0m: 'NoneType' object is not iterable"
     ]
    }
   ],
   "source": [
    "import requests\n",
    "import json\n",
    "import action\n",
    "import pdb\n",
    "# import story_handler\n",
    "BASE_URL = 'http://127.0.0.1:8000/'\n",
    "\n",
    "def predict_intent(end_user_expression):\n",
    "    ENDPOINT = \"predict_intent/\"\n",
    "    #end_user_expression = \"student\"\n",
    "    \n",
    "    data = {\n",
    "            \"end_user_expression\": end_user_expression,\n",
    "            }\n",
    "\n",
    "    resp = requests.post(BASE_URL+ENDPOINT, data=json.dumps(data))\n",
    "    if resp.status_code == 200:\n",
    "        data = resp.json()\n",
    "        print(data)\n",
    "        return data['result']['predicted'], data['result']['intent_id']\n",
    "# predict_intent(end_user_expression = \"add a student\")\n",
    "def pedict_ne(end_user_expression):\n",
    "    ENDPOINT = \"pedict_ne/\"\n",
    "    #end_user_expression = \"add student named Alan of class 10\"\n",
    "    \n",
    "    data= {\n",
    "        \"end_user_expression\": end_user_expression\n",
    "    }\n",
    "    \n",
    "    resp = requests.post(BASE_URL+ENDPOINT, data=json.dumps(data))\n",
    "    if resp.status_code == 200:\n",
    "        data = resp.json()\n",
    "        return data['result']\n",
    "# pedict_ne(\"add student named Alan of class 10\")\n",
    "def story_vector_training():\n",
    "    ENDPOINT = \"story_training/\"\n",
    "    resp = requests.post(BASE_URL+ENDPOINT)\n",
    "    if resp.status_code == 200:\n",
    "        data = resp.json()\n",
    "        return data['result']\n",
    "#story_vector_training, the same is there in API\n",
    "def all_entity_names():\n",
    "    ENDPOINT = \"all_entity_names/\"\n",
    "    \n",
    "    data = {\n",
    "        \"get_entity\": False\n",
    "    }\n",
    "    \n",
    "    resp = requests.post(BASE_URL+ENDPOINT, data=json.dumps(data))\n",
    "    print(resp.status_code)\n",
    "    print(resp.json())\n",
    "    return resp.json()\n",
    "#Get_All_Entity_Name\n",
    "def insert_stories(feature_vector, response_action):\n",
    "    ENDPOINT = \"add_story/\"\n",
    "    \n",
    "    data= {\n",
    "        \"feature_vec\": feature_vector,\n",
    "        \"action\": response_action,\n",
    "    }\n",
    "    \n",
    "    resp = requests.post(BASE_URL+ENDPOINT, data=json.dumps(data))\n",
    "    print(resp.status_code)\n",
    "    data = resp.json()\n",
    "    return data[\"result\"]\n",
    "\n",
    "class ChatBot:\n",
    "    def chat():\n",
    "        prev_action = 0\n",
    "        prev_intent = 0\n",
    "        \n",
    "        feature_vector = []\n",
    "        for i in range(100):\n",
    "            feature_vector.append(0)\n",
    "        while True:\n",
    "            # create feature vector having 100 zeros\n",
    "            \n",
    "\n",
    "            end_user_exp = input(\"You(quit-q): \")\n",
    "            if end_user_exp == 'q':\n",
    "                break\n",
    "\n",
    "            # 1. find intent\n",
    "            intent, intent_id = predict_intent(end_user_exp)\n",
    "            print(int(intent_id), intent)\n",
    "\n",
    "            feature_vector[1] = prev_intent\n",
    "            feature_vector[0] = intent_id\n",
    "            prev_intent = intent_id\n",
    "\n",
    "            # 2. find entity\n",
    "            ner_result = pedict_ne(end_user_exp)\n",
    "            # create an API - return all entity name     --------------------\n",
    "            print(ner_result)\n",
    "\n",
    "            # 3. create vector\n",
    "            entity_names = all_entity_names()\n",
    "            \n",
    "            \n",
    "            for ner in ner_result:\n",
    "                for ent in ner['entity']:\n",
    "                    for unique_entity in entity_names:\n",
    "                        if ent['type'] in unique_entity:\n",
    "\n",
    "                            index = unique_entity[ent['type']]\n",
    "                            feature_vector[ 2 + index ] = 1\n",
    "\n",
    "            print(feature_vector)\n",
    "            \n",
    "            \n",
    "            while True:\n",
    "                print(\"What is the next action:\")\n",
    "                \n",
    "                response = [\"utter_start\",\n",
    "                            \"utter_restart\",\n",
    "                            \"utter_stop\",\n",
    "                            \"utter_action_listener\",\n",
    "                            \"utter_greet\", \n",
    "                            \"utter_askname\", \n",
    "                            \"utter_askclass\", \n",
    "                            \"utter_askdivision\"]\n",
    "\n",
    "                for count, item in enumerate(response):\n",
    "                    print(count, item)\n",
    "\n",
    "                feature_vector[2] = prev_action\n",
    "                response_action = int(input(\"Enter: \"))\n",
    "                \n",
    "                if response_action == 3:\n",
    "                    break\n",
    "                    \n",
    "                if response_action == 2 or response_action == 1 :\n",
    "                    feature_vector = []\n",
    "                    for i in range(100):\n",
    "                        feature_vector.append(0)\n",
    "                    break\n",
    "                # save training data\n",
    "#                 insert_stories(feature_vector, response_action)\n",
    "                print(feature_vector, response_action)\n",
    "                prev_action = response_action\n",
    "            \n",
    "\n",
    "ChatBot.chat()"
   ]
  },
  {
   "cell_type": "markdown",
   "metadata": {},
   "source": [
    "# Add Feature Vector"
   ]
  },
  {
   "cell_type": "code",
   "execution_count": null,
   "metadata": {},
   "outputs": [],
   "source": [
    "def insert_stories(feature_vector, response_action):\n",
    "    ENDPOINT = \"add_story/\"\n",
    "    \n",
    "    data= {\n",
    "        \"feature_vec\": feature_vector,\n",
    "        \"action\": response_action,\n",
    "    }\n",
    "    \n",
    "    resp = requests.post(BASE_URL+ENDPOINT, data=json.dumps(data))\n",
    "    print(resp.status_code)\n",
    "    data = resp.json()\n",
    "    return data[\"result\"]"
   ]
  },
  {
   "cell_type": "markdown",
   "metadata": {},
   "source": [
    "# Training Story vector"
   ]
  },
  {
   "cell_type": "code",
   "execution_count": 4,
   "metadata": {},
   "outputs": [
    {
     "name": "stdout",
     "output_type": "stream",
     "text": [
      "{'result': {'Is_Trained': True}, 'error': []}\n"
     ]
    }
   ],
   "source": [
    "def story_vector_training():\n",
    "    ENDPOINT = \"story_training/\"\n",
    "    resp = requests.post(BASE_URL+ENDPOINT)\n",
    "    print(resp.json())\n",
    "story_vector_training()"
   ]
  },
  {
   "cell_type": "code",
   "execution_count": 7,
   "metadata": {},
   "outputs": [
    {
     "name": "stdout",
     "output_type": "stream",
     "text": [
      "{'result': {'predicted': 3}, 'error': []}\n"
     ]
    }
   ],
   "source": [
    "def predict_next_action():\n",
    "    ENDPOINT = \"predict_next_action/\"\n",
    "    feature_vector = [4, 3, 7, 1, 1, 0, 0, 0, 0, 0, 0, 0, 0, 0, 0, 0, 0, 0, 0, 0, 0, 0, 0, 0, 0, 0, 0, 0, 0, 0, 0, 0, 0, 0, 0, 0, 0, 0, 0, 0, 0, 0, 0, 0, 0, 0, 0, 0, 0, 0, 0, 0, 0, 0, 0, 0, 0, 0, 0, 0, 0, 0, 0, 0, 0, 0, 0, 0, 0, 0, 0, 0, 0, 0, 0, 0, 0, 0, 0, 0, 0, 0, 0, 0, 0, 0, 0, 0, 0, 0, 0, 0, 0, 0, 0, 0, 0, 0, 0, 0]\n",
    "    s = [str(i) for i in feature_vector]                    \n",
    "    s_feature_vector = \", \".join(s)\n",
    "    data= {\n",
    "            \"feature_vec\" : s_feature_vector\n",
    "        }\n",
    "        \n",
    "    resp = requests.post(BASE_URL+ENDPOINT, data=json.dumps(data))\n",
    "    print(resp.json())\n",
    "predict_next_action()"
   ]
  },
  {
   "cell_type": "code",
   "execution_count": 98,
   "metadata": {},
   "outputs": [
    {
     "name": "stdout",
     "output_type": "stream",
     "text": [
      "[0, 0, 0, 0, 0, 0, 0, 0, 0, 0, 0, 0, 0, 0, 0, 0, 0, 0, 0, 0, 0, 0, 0, 0, 0, 0, 0, 0, 0, 0, 0, 0, 0, 0, 0, 0, 0, 0, 0, 0, 0, 0, 0, 0, 0, 0, 0, 0, 0, 0, 0, 0, 0, 0, 0, 0, 0, 0, 0, 0, 0, 0, 0, 0, 0, 0, 0, 0, 0, 0, 0, 0, 0, 0, 0, 0, 0, 0, 0, 0, 0, 0, 0, 0, 0, 0, 0, 0, 0, 0, 0, 0, 0, 0, 0, 0, 0, 0, 0, 0]\n"
     ]
    }
   ],
   "source": [
    "feature_vector = []\n",
    "for i in range(100):\n",
    "    feature_vector.append(0)\n",
    "print(feature_vector)"
   ]
  },
  {
   "cell_type": "markdown",
   "metadata": {},
   "source": [
    "# Train Chatbot1"
   ]
  },
  {
   "cell_type": "code",
   "execution_count": 13,
   "metadata": {},
   "outputs": [
    {
     "ename": "ConnectionError",
     "evalue": "('Connection aborted.', ConnectionResetError(10054, 'An existing connection was forcibly closed by the remote host', None, 10054, None))",
     "output_type": "error",
     "traceback": [
      "\u001b[1;31m---------------------------------------------------------------------------\u001b[0m",
      "\u001b[1;31mConnectionResetError\u001b[0m                      Traceback (most recent call last)",
      "\u001b[1;32mC:\\ProgramData\\Anaconda3\\lib\\site-packages\\urllib3\\connectionpool.py\u001b[0m in \u001b[0;36murlopen\u001b[1;34m(self, method, url, body, headers, retries, redirect, assert_same_host, timeout, pool_timeout, release_conn, chunked, body_pos, **response_kw)\u001b[0m\n\u001b[0;32m    600\u001b[0m                                                   \u001b[0mbody\u001b[0m\u001b[1;33m=\u001b[0m\u001b[0mbody\u001b[0m\u001b[1;33m,\u001b[0m \u001b[0mheaders\u001b[0m\u001b[1;33m=\u001b[0m\u001b[0mheaders\u001b[0m\u001b[1;33m,\u001b[0m\u001b[1;33m\u001b[0m\u001b[0m\n\u001b[1;32m--> 601\u001b[1;33m                                                   chunked=chunked)\n\u001b[0m\u001b[0;32m    602\u001b[0m \u001b[1;33m\u001b[0m\u001b[0m\n",
      "\u001b[1;32mC:\\ProgramData\\Anaconda3\\lib\\site-packages\\urllib3\\connectionpool.py\u001b[0m in \u001b[0;36m_make_request\u001b[1;34m(self, conn, method, url, timeout, chunked, **httplib_request_kw)\u001b[0m\n\u001b[0;32m    386\u001b[0m                     \u001b[1;31m# otherwise it looks like a programming error was the cause.\u001b[0m\u001b[1;33m\u001b[0m\u001b[1;33m\u001b[0m\u001b[0m\n\u001b[1;32m--> 387\u001b[1;33m                     \u001b[0msix\u001b[0m\u001b[1;33m.\u001b[0m\u001b[0mraise_from\u001b[0m\u001b[1;33m(\u001b[0m\u001b[0me\u001b[0m\u001b[1;33m,\u001b[0m \u001b[1;32mNone\u001b[0m\u001b[1;33m)\u001b[0m\u001b[1;33m\u001b[0m\u001b[0m\n\u001b[0m\u001b[0;32m    388\u001b[0m         \u001b[1;32mexcept\u001b[0m \u001b[1;33m(\u001b[0m\u001b[0mSocketTimeout\u001b[0m\u001b[1;33m,\u001b[0m \u001b[0mBaseSSLError\u001b[0m\u001b[1;33m,\u001b[0m \u001b[0mSocketError\u001b[0m\u001b[1;33m)\u001b[0m \u001b[1;32mas\u001b[0m \u001b[0me\u001b[0m\u001b[1;33m:\u001b[0m\u001b[1;33m\u001b[0m\u001b[0m\n",
      "\u001b[1;32mC:\\ProgramData\\Anaconda3\\lib\\site-packages\\urllib3\\packages\\six.py\u001b[0m in \u001b[0;36mraise_from\u001b[1;34m(value, from_value)\u001b[0m\n",
      "\u001b[1;32mC:\\ProgramData\\Anaconda3\\lib\\site-packages\\urllib3\\connectionpool.py\u001b[0m in \u001b[0;36m_make_request\u001b[1;34m(self, conn, method, url, timeout, chunked, **httplib_request_kw)\u001b[0m\n\u001b[0;32m    382\u001b[0m                 \u001b[1;32mtry\u001b[0m\u001b[1;33m:\u001b[0m\u001b[1;33m\u001b[0m\u001b[0m\n\u001b[1;32m--> 383\u001b[1;33m                     \u001b[0mhttplib_response\u001b[0m \u001b[1;33m=\u001b[0m \u001b[0mconn\u001b[0m\u001b[1;33m.\u001b[0m\u001b[0mgetresponse\u001b[0m\u001b[1;33m(\u001b[0m\u001b[1;33m)\u001b[0m\u001b[1;33m\u001b[0m\u001b[0m\n\u001b[0m\u001b[0;32m    384\u001b[0m                 \u001b[1;32mexcept\u001b[0m \u001b[0mException\u001b[0m \u001b[1;32mas\u001b[0m \u001b[0me\u001b[0m\u001b[1;33m:\u001b[0m\u001b[1;33m\u001b[0m\u001b[0m\n",
      "\u001b[1;32mC:\\ProgramData\\Anaconda3\\lib\\http\\client.py\u001b[0m in \u001b[0;36mgetresponse\u001b[1;34m(self)\u001b[0m\n\u001b[0;32m   1330\u001b[0m             \u001b[1;32mtry\u001b[0m\u001b[1;33m:\u001b[0m\u001b[1;33m\u001b[0m\u001b[0m\n\u001b[1;32m-> 1331\u001b[1;33m                 \u001b[0mresponse\u001b[0m\u001b[1;33m.\u001b[0m\u001b[0mbegin\u001b[0m\u001b[1;33m(\u001b[0m\u001b[1;33m)\u001b[0m\u001b[1;33m\u001b[0m\u001b[0m\n\u001b[0m\u001b[0;32m   1332\u001b[0m             \u001b[1;32mexcept\u001b[0m \u001b[0mConnectionError\u001b[0m\u001b[1;33m:\u001b[0m\u001b[1;33m\u001b[0m\u001b[0m\n",
      "\u001b[1;32mC:\\ProgramData\\Anaconda3\\lib\\http\\client.py\u001b[0m in \u001b[0;36mbegin\u001b[1;34m(self)\u001b[0m\n\u001b[0;32m    296\u001b[0m         \u001b[1;32mwhile\u001b[0m \u001b[1;32mTrue\u001b[0m\u001b[1;33m:\u001b[0m\u001b[1;33m\u001b[0m\u001b[0m\n\u001b[1;32m--> 297\u001b[1;33m             \u001b[0mversion\u001b[0m\u001b[1;33m,\u001b[0m \u001b[0mstatus\u001b[0m\u001b[1;33m,\u001b[0m \u001b[0mreason\u001b[0m \u001b[1;33m=\u001b[0m \u001b[0mself\u001b[0m\u001b[1;33m.\u001b[0m\u001b[0m_read_status\u001b[0m\u001b[1;33m(\u001b[0m\u001b[1;33m)\u001b[0m\u001b[1;33m\u001b[0m\u001b[0m\n\u001b[0m\u001b[0;32m    298\u001b[0m             \u001b[1;32mif\u001b[0m \u001b[0mstatus\u001b[0m \u001b[1;33m!=\u001b[0m \u001b[0mCONTINUE\u001b[0m\u001b[1;33m:\u001b[0m\u001b[1;33m\u001b[0m\u001b[0m\n",
      "\u001b[1;32mC:\\ProgramData\\Anaconda3\\lib\\http\\client.py\u001b[0m in \u001b[0;36m_read_status\u001b[1;34m(self)\u001b[0m\n\u001b[0;32m    257\u001b[0m     \u001b[1;32mdef\u001b[0m \u001b[0m_read_status\u001b[0m\u001b[1;33m(\u001b[0m\u001b[0mself\u001b[0m\u001b[1;33m)\u001b[0m\u001b[1;33m:\u001b[0m\u001b[1;33m\u001b[0m\u001b[0m\n\u001b[1;32m--> 258\u001b[1;33m         \u001b[0mline\u001b[0m \u001b[1;33m=\u001b[0m \u001b[0mstr\u001b[0m\u001b[1;33m(\u001b[0m\u001b[0mself\u001b[0m\u001b[1;33m.\u001b[0m\u001b[0mfp\u001b[0m\u001b[1;33m.\u001b[0m\u001b[0mreadline\u001b[0m\u001b[1;33m(\u001b[0m\u001b[0m_MAXLINE\u001b[0m \u001b[1;33m+\u001b[0m \u001b[1;36m1\u001b[0m\u001b[1;33m)\u001b[0m\u001b[1;33m,\u001b[0m \u001b[1;34m\"iso-8859-1\"\u001b[0m\u001b[1;33m)\u001b[0m\u001b[1;33m\u001b[0m\u001b[0m\n\u001b[0m\u001b[0;32m    259\u001b[0m         \u001b[1;32mif\u001b[0m \u001b[0mlen\u001b[0m\u001b[1;33m(\u001b[0m\u001b[0mline\u001b[0m\u001b[1;33m)\u001b[0m \u001b[1;33m>\u001b[0m \u001b[0m_MAXLINE\u001b[0m\u001b[1;33m:\u001b[0m\u001b[1;33m\u001b[0m\u001b[0m\n",
      "\u001b[1;32mC:\\ProgramData\\Anaconda3\\lib\\socket.py\u001b[0m in \u001b[0;36mreadinto\u001b[1;34m(self, b)\u001b[0m\n\u001b[0;32m    585\u001b[0m             \u001b[1;32mtry\u001b[0m\u001b[1;33m:\u001b[0m\u001b[1;33m\u001b[0m\u001b[0m\n\u001b[1;32m--> 586\u001b[1;33m                 \u001b[1;32mreturn\u001b[0m \u001b[0mself\u001b[0m\u001b[1;33m.\u001b[0m\u001b[0m_sock\u001b[0m\u001b[1;33m.\u001b[0m\u001b[0mrecv_into\u001b[0m\u001b[1;33m(\u001b[0m\u001b[0mb\u001b[0m\u001b[1;33m)\u001b[0m\u001b[1;33m\u001b[0m\u001b[0m\n\u001b[0m\u001b[0;32m    587\u001b[0m             \u001b[1;32mexcept\u001b[0m \u001b[0mtimeout\u001b[0m\u001b[1;33m:\u001b[0m\u001b[1;33m\u001b[0m\u001b[0m\n",
      "\u001b[1;31mConnectionResetError\u001b[0m: [WinError 10054] An existing connection was forcibly closed by the remote host",
      "\nDuring handling of the above exception, another exception occurred:\n",
      "\u001b[1;31mProtocolError\u001b[0m                             Traceback (most recent call last)",
      "\u001b[1;32mC:\\ProgramData\\Anaconda3\\lib\\site-packages\\requests\\adapters.py\u001b[0m in \u001b[0;36msend\u001b[1;34m(self, request, stream, timeout, verify, cert, proxies)\u001b[0m\n\u001b[0;32m    439\u001b[0m                     \u001b[0mretries\u001b[0m\u001b[1;33m=\u001b[0m\u001b[0mself\u001b[0m\u001b[1;33m.\u001b[0m\u001b[0mmax_retries\u001b[0m\u001b[1;33m,\u001b[0m\u001b[1;33m\u001b[0m\u001b[0m\n\u001b[1;32m--> 440\u001b[1;33m                     \u001b[0mtimeout\u001b[0m\u001b[1;33m=\u001b[0m\u001b[0mtimeout\u001b[0m\u001b[1;33m\u001b[0m\u001b[0m\n\u001b[0m\u001b[0;32m    441\u001b[0m                 )\n",
      "\u001b[1;32mC:\\ProgramData\\Anaconda3\\lib\\site-packages\\urllib3\\connectionpool.py\u001b[0m in \u001b[0;36murlopen\u001b[1;34m(self, method, url, body, headers, retries, redirect, assert_same_host, timeout, pool_timeout, release_conn, chunked, body_pos, **response_kw)\u001b[0m\n\u001b[0;32m    638\u001b[0m             retries = retries.increment(method, url, error=e, _pool=self,\n\u001b[1;32m--> 639\u001b[1;33m                                         _stacktrace=sys.exc_info()[2])\n\u001b[0m\u001b[0;32m    640\u001b[0m             \u001b[0mretries\u001b[0m\u001b[1;33m.\u001b[0m\u001b[0msleep\u001b[0m\u001b[1;33m(\u001b[0m\u001b[1;33m)\u001b[0m\u001b[1;33m\u001b[0m\u001b[0m\n",
      "\u001b[1;32mC:\\ProgramData\\Anaconda3\\lib\\site-packages\\urllib3\\util\\retry.py\u001b[0m in \u001b[0;36mincrement\u001b[1;34m(self, method, url, response, error, _pool, _stacktrace)\u001b[0m\n\u001b[0;32m    356\u001b[0m             \u001b[1;32mif\u001b[0m \u001b[0mread\u001b[0m \u001b[1;32mis\u001b[0m \u001b[1;32mFalse\u001b[0m \u001b[1;32mor\u001b[0m \u001b[1;32mnot\u001b[0m \u001b[0mself\u001b[0m\u001b[1;33m.\u001b[0m\u001b[0m_is_method_retryable\u001b[0m\u001b[1;33m(\u001b[0m\u001b[0mmethod\u001b[0m\u001b[1;33m)\u001b[0m\u001b[1;33m:\u001b[0m\u001b[1;33m\u001b[0m\u001b[0m\n\u001b[1;32m--> 357\u001b[1;33m                 \u001b[1;32mraise\u001b[0m \u001b[0msix\u001b[0m\u001b[1;33m.\u001b[0m\u001b[0mreraise\u001b[0m\u001b[1;33m(\u001b[0m\u001b[0mtype\u001b[0m\u001b[1;33m(\u001b[0m\u001b[0merror\u001b[0m\u001b[1;33m)\u001b[0m\u001b[1;33m,\u001b[0m \u001b[0merror\u001b[0m\u001b[1;33m,\u001b[0m \u001b[0m_stacktrace\u001b[0m\u001b[1;33m)\u001b[0m\u001b[1;33m\u001b[0m\u001b[0m\n\u001b[0m\u001b[0;32m    358\u001b[0m             \u001b[1;32melif\u001b[0m \u001b[0mread\u001b[0m \u001b[1;32mis\u001b[0m \u001b[1;32mnot\u001b[0m \u001b[1;32mNone\u001b[0m\u001b[1;33m:\u001b[0m\u001b[1;33m\u001b[0m\u001b[0m\n",
      "\u001b[1;32mC:\\ProgramData\\Anaconda3\\lib\\site-packages\\urllib3\\packages\\six.py\u001b[0m in \u001b[0;36mreraise\u001b[1;34m(tp, value, tb)\u001b[0m\n\u001b[0;32m    684\u001b[0m         \u001b[1;32mif\u001b[0m \u001b[0mvalue\u001b[0m\u001b[1;33m.\u001b[0m\u001b[0m__traceback__\u001b[0m \u001b[1;32mis\u001b[0m \u001b[1;32mnot\u001b[0m \u001b[0mtb\u001b[0m\u001b[1;33m:\u001b[0m\u001b[1;33m\u001b[0m\u001b[0m\n\u001b[1;32m--> 685\u001b[1;33m             \u001b[1;32mraise\u001b[0m \u001b[0mvalue\u001b[0m\u001b[1;33m.\u001b[0m\u001b[0mwith_traceback\u001b[0m\u001b[1;33m(\u001b[0m\u001b[0mtb\u001b[0m\u001b[1;33m)\u001b[0m\u001b[1;33m\u001b[0m\u001b[0m\n\u001b[0m\u001b[0;32m    686\u001b[0m         \u001b[1;32mraise\u001b[0m \u001b[0mvalue\u001b[0m\u001b[1;33m\u001b[0m\u001b[0m\n",
      "\u001b[1;32mC:\\ProgramData\\Anaconda3\\lib\\site-packages\\urllib3\\connectionpool.py\u001b[0m in \u001b[0;36murlopen\u001b[1;34m(self, method, url, body, headers, retries, redirect, assert_same_host, timeout, pool_timeout, release_conn, chunked, body_pos, **response_kw)\u001b[0m\n\u001b[0;32m    600\u001b[0m                                                   \u001b[0mbody\u001b[0m\u001b[1;33m=\u001b[0m\u001b[0mbody\u001b[0m\u001b[1;33m,\u001b[0m \u001b[0mheaders\u001b[0m\u001b[1;33m=\u001b[0m\u001b[0mheaders\u001b[0m\u001b[1;33m,\u001b[0m\u001b[1;33m\u001b[0m\u001b[0m\n\u001b[1;32m--> 601\u001b[1;33m                                                   chunked=chunked)\n\u001b[0m\u001b[0;32m    602\u001b[0m \u001b[1;33m\u001b[0m\u001b[0m\n",
      "\u001b[1;32mC:\\ProgramData\\Anaconda3\\lib\\site-packages\\urllib3\\connectionpool.py\u001b[0m in \u001b[0;36m_make_request\u001b[1;34m(self, conn, method, url, timeout, chunked, **httplib_request_kw)\u001b[0m\n\u001b[0;32m    386\u001b[0m                     \u001b[1;31m# otherwise it looks like a programming error was the cause.\u001b[0m\u001b[1;33m\u001b[0m\u001b[1;33m\u001b[0m\u001b[0m\n\u001b[1;32m--> 387\u001b[1;33m                     \u001b[0msix\u001b[0m\u001b[1;33m.\u001b[0m\u001b[0mraise_from\u001b[0m\u001b[1;33m(\u001b[0m\u001b[0me\u001b[0m\u001b[1;33m,\u001b[0m \u001b[1;32mNone\u001b[0m\u001b[1;33m)\u001b[0m\u001b[1;33m\u001b[0m\u001b[0m\n\u001b[0m\u001b[0;32m    388\u001b[0m         \u001b[1;32mexcept\u001b[0m \u001b[1;33m(\u001b[0m\u001b[0mSocketTimeout\u001b[0m\u001b[1;33m,\u001b[0m \u001b[0mBaseSSLError\u001b[0m\u001b[1;33m,\u001b[0m \u001b[0mSocketError\u001b[0m\u001b[1;33m)\u001b[0m \u001b[1;32mas\u001b[0m \u001b[0me\u001b[0m\u001b[1;33m:\u001b[0m\u001b[1;33m\u001b[0m\u001b[0m\n",
      "\u001b[1;32mC:\\ProgramData\\Anaconda3\\lib\\site-packages\\urllib3\\packages\\six.py\u001b[0m in \u001b[0;36mraise_from\u001b[1;34m(value, from_value)\u001b[0m\n",
      "\u001b[1;32mC:\\ProgramData\\Anaconda3\\lib\\site-packages\\urllib3\\connectionpool.py\u001b[0m in \u001b[0;36m_make_request\u001b[1;34m(self, conn, method, url, timeout, chunked, **httplib_request_kw)\u001b[0m\n\u001b[0;32m    382\u001b[0m                 \u001b[1;32mtry\u001b[0m\u001b[1;33m:\u001b[0m\u001b[1;33m\u001b[0m\u001b[0m\n\u001b[1;32m--> 383\u001b[1;33m                     \u001b[0mhttplib_response\u001b[0m \u001b[1;33m=\u001b[0m \u001b[0mconn\u001b[0m\u001b[1;33m.\u001b[0m\u001b[0mgetresponse\u001b[0m\u001b[1;33m(\u001b[0m\u001b[1;33m)\u001b[0m\u001b[1;33m\u001b[0m\u001b[0m\n\u001b[0m\u001b[0;32m    384\u001b[0m                 \u001b[1;32mexcept\u001b[0m \u001b[0mException\u001b[0m \u001b[1;32mas\u001b[0m \u001b[0me\u001b[0m\u001b[1;33m:\u001b[0m\u001b[1;33m\u001b[0m\u001b[0m\n",
      "\u001b[1;32mC:\\ProgramData\\Anaconda3\\lib\\http\\client.py\u001b[0m in \u001b[0;36mgetresponse\u001b[1;34m(self)\u001b[0m\n\u001b[0;32m   1330\u001b[0m             \u001b[1;32mtry\u001b[0m\u001b[1;33m:\u001b[0m\u001b[1;33m\u001b[0m\u001b[0m\n\u001b[1;32m-> 1331\u001b[1;33m                 \u001b[0mresponse\u001b[0m\u001b[1;33m.\u001b[0m\u001b[0mbegin\u001b[0m\u001b[1;33m(\u001b[0m\u001b[1;33m)\u001b[0m\u001b[1;33m\u001b[0m\u001b[0m\n\u001b[0m\u001b[0;32m   1332\u001b[0m             \u001b[1;32mexcept\u001b[0m \u001b[0mConnectionError\u001b[0m\u001b[1;33m:\u001b[0m\u001b[1;33m\u001b[0m\u001b[0m\n",
      "\u001b[1;32mC:\\ProgramData\\Anaconda3\\lib\\http\\client.py\u001b[0m in \u001b[0;36mbegin\u001b[1;34m(self)\u001b[0m\n\u001b[0;32m    296\u001b[0m         \u001b[1;32mwhile\u001b[0m \u001b[1;32mTrue\u001b[0m\u001b[1;33m:\u001b[0m\u001b[1;33m\u001b[0m\u001b[0m\n\u001b[1;32m--> 297\u001b[1;33m             \u001b[0mversion\u001b[0m\u001b[1;33m,\u001b[0m \u001b[0mstatus\u001b[0m\u001b[1;33m,\u001b[0m \u001b[0mreason\u001b[0m \u001b[1;33m=\u001b[0m \u001b[0mself\u001b[0m\u001b[1;33m.\u001b[0m\u001b[0m_read_status\u001b[0m\u001b[1;33m(\u001b[0m\u001b[1;33m)\u001b[0m\u001b[1;33m\u001b[0m\u001b[0m\n\u001b[0m\u001b[0;32m    298\u001b[0m             \u001b[1;32mif\u001b[0m \u001b[0mstatus\u001b[0m \u001b[1;33m!=\u001b[0m \u001b[0mCONTINUE\u001b[0m\u001b[1;33m:\u001b[0m\u001b[1;33m\u001b[0m\u001b[0m\n",
      "\u001b[1;32mC:\\ProgramData\\Anaconda3\\lib\\http\\client.py\u001b[0m in \u001b[0;36m_read_status\u001b[1;34m(self)\u001b[0m\n\u001b[0;32m    257\u001b[0m     \u001b[1;32mdef\u001b[0m \u001b[0m_read_status\u001b[0m\u001b[1;33m(\u001b[0m\u001b[0mself\u001b[0m\u001b[1;33m)\u001b[0m\u001b[1;33m:\u001b[0m\u001b[1;33m\u001b[0m\u001b[0m\n\u001b[1;32m--> 258\u001b[1;33m         \u001b[0mline\u001b[0m \u001b[1;33m=\u001b[0m \u001b[0mstr\u001b[0m\u001b[1;33m(\u001b[0m\u001b[0mself\u001b[0m\u001b[1;33m.\u001b[0m\u001b[0mfp\u001b[0m\u001b[1;33m.\u001b[0m\u001b[0mreadline\u001b[0m\u001b[1;33m(\u001b[0m\u001b[0m_MAXLINE\u001b[0m \u001b[1;33m+\u001b[0m \u001b[1;36m1\u001b[0m\u001b[1;33m)\u001b[0m\u001b[1;33m,\u001b[0m \u001b[1;34m\"iso-8859-1\"\u001b[0m\u001b[1;33m)\u001b[0m\u001b[1;33m\u001b[0m\u001b[0m\n\u001b[0m\u001b[0;32m    259\u001b[0m         \u001b[1;32mif\u001b[0m \u001b[0mlen\u001b[0m\u001b[1;33m(\u001b[0m\u001b[0mline\u001b[0m\u001b[1;33m)\u001b[0m \u001b[1;33m>\u001b[0m \u001b[0m_MAXLINE\u001b[0m\u001b[1;33m:\u001b[0m\u001b[1;33m\u001b[0m\u001b[0m\n",
      "\u001b[1;32mC:\\ProgramData\\Anaconda3\\lib\\socket.py\u001b[0m in \u001b[0;36mreadinto\u001b[1;34m(self, b)\u001b[0m\n\u001b[0;32m    585\u001b[0m             \u001b[1;32mtry\u001b[0m\u001b[1;33m:\u001b[0m\u001b[1;33m\u001b[0m\u001b[0m\n\u001b[1;32m--> 586\u001b[1;33m                 \u001b[1;32mreturn\u001b[0m \u001b[0mself\u001b[0m\u001b[1;33m.\u001b[0m\u001b[0m_sock\u001b[0m\u001b[1;33m.\u001b[0m\u001b[0mrecv_into\u001b[0m\u001b[1;33m(\u001b[0m\u001b[0mb\u001b[0m\u001b[1;33m)\u001b[0m\u001b[1;33m\u001b[0m\u001b[0m\n\u001b[0m\u001b[0;32m    587\u001b[0m             \u001b[1;32mexcept\u001b[0m \u001b[0mtimeout\u001b[0m\u001b[1;33m:\u001b[0m\u001b[1;33m\u001b[0m\u001b[0m\n",
      "\u001b[1;31mProtocolError\u001b[0m: ('Connection aborted.', ConnectionResetError(10054, 'An existing connection was forcibly closed by the remote host', None, 10054, None))",
      "\nDuring handling of the above exception, another exception occurred:\n",
      "\u001b[1;31mConnectionError\u001b[0m                           Traceback (most recent call last)",
      "\u001b[1;32m<ipython-input-13-474ac73e3884>\u001b[0m in \u001b[0;36m<module>\u001b[1;34m()\u001b[0m\n\u001b[0;32m      9\u001b[0m     \u001b[0mdata\u001b[0m \u001b[1;33m=\u001b[0m \u001b[0mresp\u001b[0m\u001b[1;33m.\u001b[0m\u001b[0mjson\u001b[0m\u001b[1;33m(\u001b[0m\u001b[1;33m)\u001b[0m\u001b[1;33m\u001b[0m\u001b[0m\n\u001b[0;32m     10\u001b[0m     \u001b[1;32mreturn\u001b[0m \u001b[0mdata\u001b[0m\u001b[1;33m\u001b[0m\u001b[0m\n\u001b[1;32m---> 11\u001b[1;33m \u001b[0mend_user_expression\u001b[0m\u001b[1;33m(\u001b[0m\u001b[1;34m\"Hi\"\u001b[0m\u001b[1;33m)\u001b[0m\u001b[1;33m\u001b[0m\u001b[0m\n\u001b[0m",
      "\u001b[1;32m<ipython-input-13-474ac73e3884>\u001b[0m in \u001b[0;36mend_user_expression\u001b[1;34m(end_user_exp)\u001b[0m\n\u001b[0;32m      5\u001b[0m         \u001b[1;34m\"story_id\"\u001b[0m\u001b[1;33m:\u001b[0m \u001b[1;36m1\u001b[0m\u001b[1;33m\u001b[0m\u001b[0m\n\u001b[0;32m      6\u001b[0m     }\n\u001b[1;32m----> 7\u001b[1;33m     \u001b[0mresp\u001b[0m \u001b[1;33m=\u001b[0m \u001b[0mrequests\u001b[0m\u001b[1;33m.\u001b[0m\u001b[0mpost\u001b[0m\u001b[1;33m(\u001b[0m\u001b[0mBASE_URL\u001b[0m\u001b[1;33m+\u001b[0m\u001b[0mENDPOINT\u001b[0m\u001b[1;33m,\u001b[0m \u001b[0mjson\u001b[0m\u001b[1;33m.\u001b[0m\u001b[0mdumps\u001b[0m\u001b[1;33m(\u001b[0m\u001b[0mdata\u001b[0m\u001b[1;33m)\u001b[0m\u001b[1;33m)\u001b[0m\u001b[1;33m\u001b[0m\u001b[0m\n\u001b[0m\u001b[0;32m      8\u001b[0m     \u001b[0mprint\u001b[0m\u001b[1;33m(\u001b[0m\u001b[0mresp\u001b[0m\u001b[1;33m.\u001b[0m\u001b[0mjson\u001b[0m\u001b[1;33m(\u001b[0m\u001b[1;33m)\u001b[0m\u001b[1;33m)\u001b[0m\u001b[1;33m\u001b[0m\u001b[0m\n\u001b[0;32m      9\u001b[0m     \u001b[0mdata\u001b[0m \u001b[1;33m=\u001b[0m \u001b[0mresp\u001b[0m\u001b[1;33m.\u001b[0m\u001b[0mjson\u001b[0m\u001b[1;33m(\u001b[0m\u001b[1;33m)\u001b[0m\u001b[1;33m\u001b[0m\u001b[0m\n",
      "\u001b[1;32mC:\\ProgramData\\Anaconda3\\lib\\site-packages\\requests\\api.py\u001b[0m in \u001b[0;36mpost\u001b[1;34m(url, data, json, **kwargs)\u001b[0m\n\u001b[0;32m    110\u001b[0m     \"\"\"\n\u001b[0;32m    111\u001b[0m \u001b[1;33m\u001b[0m\u001b[0m\n\u001b[1;32m--> 112\u001b[1;33m     \u001b[1;32mreturn\u001b[0m \u001b[0mrequest\u001b[0m\u001b[1;33m(\u001b[0m\u001b[1;34m'post'\u001b[0m\u001b[1;33m,\u001b[0m \u001b[0murl\u001b[0m\u001b[1;33m,\u001b[0m \u001b[0mdata\u001b[0m\u001b[1;33m=\u001b[0m\u001b[0mdata\u001b[0m\u001b[1;33m,\u001b[0m \u001b[0mjson\u001b[0m\u001b[1;33m=\u001b[0m\u001b[0mjson\u001b[0m\u001b[1;33m,\u001b[0m \u001b[1;33m**\u001b[0m\u001b[0mkwargs\u001b[0m\u001b[1;33m)\u001b[0m\u001b[1;33m\u001b[0m\u001b[0m\n\u001b[0m\u001b[0;32m    113\u001b[0m \u001b[1;33m\u001b[0m\u001b[0m\n\u001b[0;32m    114\u001b[0m \u001b[1;33m\u001b[0m\u001b[0m\n",
      "\u001b[1;32mC:\\ProgramData\\Anaconda3\\lib\\site-packages\\requests\\api.py\u001b[0m in \u001b[0;36mrequest\u001b[1;34m(method, url, **kwargs)\u001b[0m\n\u001b[0;32m     56\u001b[0m     \u001b[1;31m# cases, and look like a memory leak in others.\u001b[0m\u001b[1;33m\u001b[0m\u001b[1;33m\u001b[0m\u001b[0m\n\u001b[0;32m     57\u001b[0m     \u001b[1;32mwith\u001b[0m \u001b[0msessions\u001b[0m\u001b[1;33m.\u001b[0m\u001b[0mSession\u001b[0m\u001b[1;33m(\u001b[0m\u001b[1;33m)\u001b[0m \u001b[1;32mas\u001b[0m \u001b[0msession\u001b[0m\u001b[1;33m:\u001b[0m\u001b[1;33m\u001b[0m\u001b[0m\n\u001b[1;32m---> 58\u001b[1;33m         \u001b[1;32mreturn\u001b[0m \u001b[0msession\u001b[0m\u001b[1;33m.\u001b[0m\u001b[0mrequest\u001b[0m\u001b[1;33m(\u001b[0m\u001b[0mmethod\u001b[0m\u001b[1;33m=\u001b[0m\u001b[0mmethod\u001b[0m\u001b[1;33m,\u001b[0m \u001b[0murl\u001b[0m\u001b[1;33m=\u001b[0m\u001b[0murl\u001b[0m\u001b[1;33m,\u001b[0m \u001b[1;33m**\u001b[0m\u001b[0mkwargs\u001b[0m\u001b[1;33m)\u001b[0m\u001b[1;33m\u001b[0m\u001b[0m\n\u001b[0m\u001b[0;32m     59\u001b[0m \u001b[1;33m\u001b[0m\u001b[0m\n\u001b[0;32m     60\u001b[0m \u001b[1;33m\u001b[0m\u001b[0m\n",
      "\u001b[1;32mC:\\ProgramData\\Anaconda3\\lib\\site-packages\\requests\\sessions.py\u001b[0m in \u001b[0;36mrequest\u001b[1;34m(self, method, url, params, data, headers, cookies, files, auth, timeout, allow_redirects, proxies, hooks, stream, verify, cert, json)\u001b[0m\n\u001b[0;32m    506\u001b[0m         }\n\u001b[0;32m    507\u001b[0m         \u001b[0msend_kwargs\u001b[0m\u001b[1;33m.\u001b[0m\u001b[0mupdate\u001b[0m\u001b[1;33m(\u001b[0m\u001b[0msettings\u001b[0m\u001b[1;33m)\u001b[0m\u001b[1;33m\u001b[0m\u001b[0m\n\u001b[1;32m--> 508\u001b[1;33m         \u001b[0mresp\u001b[0m \u001b[1;33m=\u001b[0m \u001b[0mself\u001b[0m\u001b[1;33m.\u001b[0m\u001b[0msend\u001b[0m\u001b[1;33m(\u001b[0m\u001b[0mprep\u001b[0m\u001b[1;33m,\u001b[0m \u001b[1;33m**\u001b[0m\u001b[0msend_kwargs\u001b[0m\u001b[1;33m)\u001b[0m\u001b[1;33m\u001b[0m\u001b[0m\n\u001b[0m\u001b[0;32m    509\u001b[0m \u001b[1;33m\u001b[0m\u001b[0m\n\u001b[0;32m    510\u001b[0m         \u001b[1;32mreturn\u001b[0m \u001b[0mresp\u001b[0m\u001b[1;33m\u001b[0m\u001b[0m\n",
      "\u001b[1;32mC:\\ProgramData\\Anaconda3\\lib\\site-packages\\requests\\sessions.py\u001b[0m in \u001b[0;36msend\u001b[1;34m(self, request, **kwargs)\u001b[0m\n\u001b[0;32m    616\u001b[0m \u001b[1;33m\u001b[0m\u001b[0m\n\u001b[0;32m    617\u001b[0m         \u001b[1;31m# Send the request\u001b[0m\u001b[1;33m\u001b[0m\u001b[1;33m\u001b[0m\u001b[0m\n\u001b[1;32m--> 618\u001b[1;33m         \u001b[0mr\u001b[0m \u001b[1;33m=\u001b[0m \u001b[0madapter\u001b[0m\u001b[1;33m.\u001b[0m\u001b[0msend\u001b[0m\u001b[1;33m(\u001b[0m\u001b[0mrequest\u001b[0m\u001b[1;33m,\u001b[0m \u001b[1;33m**\u001b[0m\u001b[0mkwargs\u001b[0m\u001b[1;33m)\u001b[0m\u001b[1;33m\u001b[0m\u001b[0m\n\u001b[0m\u001b[0;32m    619\u001b[0m \u001b[1;33m\u001b[0m\u001b[0m\n\u001b[0;32m    620\u001b[0m         \u001b[1;31m# Total elapsed time of the request (approximately)\u001b[0m\u001b[1;33m\u001b[0m\u001b[1;33m\u001b[0m\u001b[0m\n",
      "\u001b[1;32mC:\\ProgramData\\Anaconda3\\lib\\site-packages\\requests\\adapters.py\u001b[0m in \u001b[0;36msend\u001b[1;34m(self, request, stream, timeout, verify, cert, proxies)\u001b[0m\n\u001b[0;32m    488\u001b[0m \u001b[1;33m\u001b[0m\u001b[0m\n\u001b[0;32m    489\u001b[0m         \u001b[1;32mexcept\u001b[0m \u001b[1;33m(\u001b[0m\u001b[0mProtocolError\u001b[0m\u001b[1;33m,\u001b[0m \u001b[0msocket\u001b[0m\u001b[1;33m.\u001b[0m\u001b[0merror\u001b[0m\u001b[1;33m)\u001b[0m \u001b[1;32mas\u001b[0m \u001b[0merr\u001b[0m\u001b[1;33m:\u001b[0m\u001b[1;33m\u001b[0m\u001b[0m\n\u001b[1;32m--> 490\u001b[1;33m             \u001b[1;32mraise\u001b[0m \u001b[0mConnectionError\u001b[0m\u001b[1;33m(\u001b[0m\u001b[0merr\u001b[0m\u001b[1;33m,\u001b[0m \u001b[0mrequest\u001b[0m\u001b[1;33m=\u001b[0m\u001b[0mrequest\u001b[0m\u001b[1;33m)\u001b[0m\u001b[1;33m\u001b[0m\u001b[0m\n\u001b[0m\u001b[0;32m    491\u001b[0m \u001b[1;33m\u001b[0m\u001b[0m\n\u001b[0;32m    492\u001b[0m         \u001b[1;32mexcept\u001b[0m \u001b[0mMaxRetryError\u001b[0m \u001b[1;32mas\u001b[0m \u001b[0me\u001b[0m\u001b[1;33m:\u001b[0m\u001b[1;33m\u001b[0m\u001b[0m\n",
      "\u001b[1;31mConnectionError\u001b[0m: ('Connection aborted.', ConnectionResetError(10054, 'An existing connection was forcibly closed by the remote host', None, 10054, None))"
     ]
    }
   ],
   "source": [
    "def end_user_expression(end_user_exp):\n",
    "    ENDPOINT = \"interactive_learning/\"\n",
    "    data = {\n",
    "        \"end_user_expression\" : end_user_exp,\n",
    "        \"story_id\": 1\n",
    "    }\n",
    "    resp = requests.post(BASE_URL+ENDPOINT, json.dumps(data))\n",
    "    print(resp.json())\n",
    "    data = resp.json()\n",
    "    return data\n",
    "end_user_expression(\"Hi\")"
   ]
  },
  {
   "cell_type": "code",
   "execution_count": 2,
   "metadata": {},
   "outputs": [],
   "source": [
    "def correct_intent(new_intent):\n",
    "    ENDPOINT = \"correct_intent/\"\n",
    "    data = {\n",
    "        \"correct_intent\" = new_intent\n",
    "    }\n",
    "    resp = requests.post(BASE_URL+ENDPOINT, json.dumps(data))\n",
    "    print(resp.json())\n",
    "    data = resp.json()\n",
    "    return data"
   ]
  },
  {
   "cell_type": "code",
   "execution_count": null,
   "metadata": {},
   "outputs": [],
   "source": [
    "def "
   ]
  }
 ],
 "metadata": {
  "kernelspec": {
   "display_name": "Python 3",
   "language": "python",
   "name": "python3"
  },
  "language_info": {
   "codemirror_mode": {
    "name": "ipython",
    "version": 3
   },
   "file_extension": ".py",
   "mimetype": "text/x-python",
   "name": "python",
   "nbconvert_exporter": "python",
   "pygments_lexer": "ipython3",
   "version": "3.6.5"
  }
 },
 "nbformat": 4,
 "nbformat_minor": 4
}
